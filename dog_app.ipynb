{
 "cells": [
  {
   "cell_type": "markdown",
   "metadata": {
    "deletable": true,
    "editable": true
   },
   "source": [
    "# Artificial Intelligence Nanodegree\n",
    "\n",
    "## Convolutional Neural Networks\n",
    "\n",
    "## Project: Write an Algorithm for a Dog Identification App \n",
    "\n",
    "---\n",
    "\n",
    "### Solution by Carsten Isert, Sept. 2017\n",
    "\n",
    "In this notebook, some template code has already been provided for you, and you will need to implement additional functionality to successfully complete this project. You will not need to modify the included code beyond what is requested. Sections that begin with **'(IMPLEMENTATION)'** in the header indicate that the following block of code will require additional functionality which you must provide. Instructions will be provided for each section, and the specifics of the implementation are marked in the code block with a 'TODO' statement. Please be sure to read the instructions carefully! \n",
    "\n",
    "> **Note**: Once you have completed all of the code implementations, you need to finalize your work by exporting the iPython Notebook as an HTML document. Before exporting the notebook to html, all of the code cells need to have been run so that reviewers can see the final implementation and output. You can then export the notebook by using the menu above and navigating to  \\n\",\n",
    "    \"**File -> Download as -> HTML (.html)**. Include the finished document along with this notebook as your submission.\n",
    "\n",
    "In addition to implementing code, there will be questions that you must answer which relate to the project and your implementation. Each section where you will answer a question is preceded by a **'Question X'** header. Carefully read each question and provide thorough answers in the following text boxes that begin with **'Answer:'**. Your project submission will be evaluated based on your answers to each of the questions and the implementation you provide.\n",
    "\n",
    ">**Note:** Code and Markdown cells can be executed using the **Shift + Enter** keyboard shortcut.  Markdown cells can be edited by double-clicking the cell to enter edit mode.\n",
    "\n",
    "The rubric contains _optional_ \"Stand Out Suggestions\" for enhancing the project beyond the minimum requirements. If you decide to pursue the \"Stand Out Suggestions\", you should include the code in this IPython notebook.\n",
    "\n",
    "\n",
    "\n",
    "---\n",
    "### Why We're Here \n",
    "\n",
    "In this notebook, you will make the first steps towards developing an algorithm that could be used as part of a mobile or web app.  At the end of this project, your code will accept any user-supplied image as input.  If a dog is detected in the image, it will provide an estimate of the dog's breed.  If a human is detected, it will provide an estimate of the dog breed that is most resembling.  The image below displays potential sample output of your finished project (... but we expect that each student's algorithm will behave differently!). \n",
    "\n",
    "![Sample Dog Output](images/sample_dog_output.png)\n",
    "\n",
    "In this real-world setting, you will need to piece together a series of models to perform different tasks; for instance, the algorithm that detects humans in an image will be different from the CNN that infers dog breed.  There are many points of possible failure, and no perfect algorithm exists.  Your imperfect solution will nonetheless create a fun user experience!\n",
    "\n",
    "### The Road Ahead\n",
    "\n",
    "We break the notebook into separate steps.  Feel free to use the links below to navigate the notebook.\n",
    "\n",
    "* [Step 0](#step0): Import Datasets\n",
    "* [Step 1](#step1): Detect Humans\n",
    "* [Step 2](#step2): Detect Dogs\n",
    "* [Step 3](#step3): Create a CNN to Classify Dog Breeds (from Scratch)\n",
    "* [Step 4](#step4): Use a CNN to Classify Dog Breeds (using Transfer Learning)\n",
    "* [Step 5](#step5): Create a CNN to Classify Dog Breeds (using Transfer Learning)\n",
    "* [Step 6](#step6): Write your Algorithm\n",
    "* [Step 7](#step7): Test Your Algorithm\n",
    "\n",
    "---\n",
    "<a id='step0'></a>\n",
    "## Step 0: Import Datasets\n",
    "\n",
    "### Import Dog Dataset\n",
    "\n",
    "In the code cell below, we import a dataset of dog images.  We populate a few variables through the use of the `load_files` function from the scikit-learn library:\n",
    "- `train_files`, `valid_files`, `test_files` - numpy arrays containing file paths to images\n",
    "- `train_targets`, `valid_targets`, `test_targets` - numpy arrays containing onehot-encoded classification labels \n",
    "- `dog_names` - list of string-valued dog breed names for translating labels"
   ]
  },
  {
   "cell_type": "code",
   "execution_count": 8,
   "metadata": {
    "collapsed": false,
    "deletable": true,
    "editable": true
   },
   "outputs": [
    {
     "name": "stderr",
     "output_type": "stream",
     "text": [
      "Using TensorFlow backend.\n"
     ]
    },
    {
     "name": "stdout",
     "output_type": "stream",
     "text": [
      "There are 133 total dog categories.\n",
      "There are 8351 total dog images.\n",
      "\n",
      "There are 6680 training dog images.\n",
      "There are 835 validation dog images.\n",
      "There are 836 test dog images.\n"
     ]
    }
   ],
   "source": [
    "from sklearn.datasets import load_files       \n",
    "from keras.utils import np_utils\n",
    "import numpy as np\n",
    "from glob import glob\n",
    "\n",
    "# define function to load train, test, and validation datasets\n",
    "def load_dataset(path):\n",
    "    data = load_files(path)\n",
    "    dog_files = np.array(data['filenames'])\n",
    "    dog_targets = np_utils.to_categorical(np.array(data['target']), 133)\n",
    "    return dog_files, dog_targets\n",
    "\n",
    "# load train, test, and validation datasets\n",
    "train_files, train_targets = load_dataset('dogImages/train')\n",
    "valid_files, valid_targets = load_dataset('dogImages/valid')\n",
    "test_files, test_targets = load_dataset('dogImages/test')\n",
    "\n",
    "# load list of dog names\n",
    "dog_names = [item[20:-1] for item in sorted(glob(\"dogImages/train/*/\"))]\n",
    "\n",
    "# print statistics about the dataset\n",
    "print('There are %d total dog categories.' % len(dog_names))\n",
    "print('There are %s total dog images.\\n' % len(np.hstack([train_files, valid_files, test_files])))\n",
    "print('There are %d training dog images.' % len(train_files))\n",
    "print('There are %d validation dog images.' % len(valid_files))\n",
    "print('There are %d test dog images.'% len(test_files))"
   ]
  },
  {
   "cell_type": "markdown",
   "metadata": {
    "deletable": true,
    "editable": true
   },
   "source": [
    "### Import Human Dataset\n",
    "\n",
    "In the code cell below, we import a dataset of human images, where the file paths are stored in the numpy array `human_files`."
   ]
  },
  {
   "cell_type": "code",
   "execution_count": 9,
   "metadata": {
    "collapsed": false,
    "deletable": true,
    "editable": true
   },
   "outputs": [
    {
     "name": "stdout",
     "output_type": "stream",
     "text": [
      "There are 13233 total human images.\n"
     ]
    }
   ],
   "source": [
    "import random\n",
    "random.seed(8675309)\n",
    "\n",
    "# load filenames in shuffled human dataset\n",
    "human_files = np.array(glob(\"lfw/*/*\"))\n",
    "random.shuffle(human_files)\n",
    "\n",
    "# print statistics about the dataset\n",
    "print('There are %d total human images.' % len(human_files))"
   ]
  },
  {
   "cell_type": "markdown",
   "metadata": {
    "deletable": true,
    "editable": true
   },
   "source": [
    "---\n",
    "<a id='step1'></a>\n",
    "## Step 1: Detect Humans\n",
    "\n",
    "We use OpenCV's implementation of [Haar feature-based cascade classifiers](http://docs.opencv.org/trunk/d7/d8b/tutorial_py_face_detection.html) to detect human faces in images.  OpenCV provides many pre-trained face detectors, stored as XML files on [github](https://github.com/opencv/opencv/tree/master/data/haarcascades).  We have downloaded one of these detectors and stored it in the `haarcascades` directory.\n",
    "\n",
    "In the next code cell, we demonstrate how to use this detector to find human faces in a sample image."
   ]
  },
  {
   "cell_type": "code",
   "execution_count": 10,
   "metadata": {
    "collapsed": false,
    "deletable": true,
    "editable": true
   },
   "outputs": [
    {
     "name": "stdout",
     "output_type": "stream",
     "text": [
      "Number of faces detected: 1\n"
     ]
    },
    {
     "data": {
      "image/png": "[encoded data removed]",
      "text/plain": [
       "<matplotlib.figure.Figure at 0x108f9aa58>"
      ]
     },
     "metadata": {},
     "output_type": "display_data"
    }
   ],
   "source": [
    "import cv2                \n",
    "import matplotlib.pyplot as plt                        \n",
    "%matplotlib inline                               \n",
    "\n",
    "# extract pre-trained face detector\n",
    "face_cascade = cv2.CascadeClassifier('haarcascades/haarcascade_frontalface_alt.xml')\n",
    "\n",
    "# load color (BGR) image\n",
    "img = cv2.imread(human_files[3])\n",
    "# convert BGR image to grayscale\n",
    "gray = cv2.cvtColor(img, cv2.COLOR_BGR2GRAY)\n",
    "\n",
    "# find faces in image\n",
    "faces = face_cascade.detectMultiScale(gray)\n",
    "\n",
    "# print number of faces detected in the image\n",
    "print('Number of faces detected:', len(faces))\n",
    "\n",
    "# get bounding box for each detected face\n",
    "for (x,y,w,h) in faces:\n",
    "    # add bounding box to color image\n",
    "    cv2.rectangle(img,(x,y),(x+w,y+h),(255,0,0),2)\n",
    "    \n",
    "# convert BGR image to RGB for plotting\n",
    "cv_rgb = cv2.cvtColor(img, cv2.COLOR_BGR2RGB)\n",
    "\n",
    "# display the image, along with bounding box\n",
    "plt.imshow(cv_rgb)\n",
    "plt.show()"
   ]
  },
  {
   "cell_type": "markdown",
   "metadata": {
    "deletable": true,
    "editable": true
   },
   "source": [
    "Before using any of the face detectors, it is standard procedure to convert the images to grayscale.  The `detectMultiScale` function executes the classifier stored in `face_cascade` and takes the grayscale image as a parameter.  \n",
    "\n",
    "In the above code, `faces` is a numpy array of detected faces, where each row corresponds to a detected face.  Each detected face is a 1D array with four entries that specifies the bounding box of the detected face.  The first two entries in the array (extracted in the above code as `x` and `y`) specify the horizontal and vertical positions of the top left corner of the bounding box.  The last two entries in the array (extracted here as `w` and `h`) specify the width and height of the box.\n",
    "\n",
    "### Write a Human Face Detector\n",
    "\n",
    "We can use this procedure to write a function that returns `True` if a human face is detected in an image and `False` otherwise.  This function, aptly named `face_detector`, takes a string-valued file path to an image as input and appears in the code block below."
   ]
  },
  {
   "cell_type": "code",
   "execution_count": 11,
   "metadata": {
    "collapsed": true,
    "deletable": true,
    "editable": true
   },
   "outputs": [],
   "source": [
    "# returns \"True\" if face is detected in image stored at img_path\n",
    "def face_detector(img_path):\n",
    "    img = cv2.imread(img_path)\n",
    "    gray = cv2.cvtColor(img, cv2.COLOR_BGR2GRAY)\n",
    "    faces = face_cascade.detectMultiScale(gray)\n",
    "    return len(faces) > 0"
   ]
  },
  {
   "cell_type": "markdown",
   "metadata": {
    "deletable": true,
    "editable": true
   },
   "source": [
    "### (IMPLEMENTATION) Assess the Human Face Detector\n",
    "\n",
    "__Question 1:__ Use the code cell below to test the performance of the `face_detector` function.  \n",
    "- What percentage of the first 100 images in `human_files` have a detected human face?  \n",
    "- What percentage of the first 100 images in `dog_files` have a detected human face? \n",
    "\n",
    "Ideally, we would like 100% of human images with a detected face and 0% of dog images with a detected face.  You will see that our algorithm falls short of this goal, but still gives acceptable performance.  We extract the file paths for the first 100 images from each of the datasets and store them in the numpy arrays `human_files_short` and `dog_files_short`.\n",
    "\n",
    "__Answer:__ The performance on the human dataset is acceptable, but for the dogs it is quite bad with 11%.\n",
    "- Percentage of detected faces in human dataset:  0.98 - 0.99\n",
    "- Percentage of detected faces in dog dataset:  0.11"
   ]
  },
  {
   "cell_type": "code",
   "execution_count": 5,
   "metadata": {
    "collapsed": false,
    "deletable": true,
    "editable": true
   },
   "outputs": [
    {
     "name": "stdout",
     "output_type": "stream",
     "text": [
      "Percentage of detected faces in human dataset:  0.99\n",
      "Percentage of detected faces in dog dataset:  0.11\n"
     ]
    }
   ],
   "source": [
    "human_files_short = human_files[:100]\n",
    "dog_files_short = train_files[:100]\n",
    "# Do NOT modify the code above this line.\n",
    "\n",
    "number_of_detected_faces = 0\n",
    "for file in human_files_short:\n",
    "    if face_detector(file):\n",
    "        number_of_detected_faces += 1\n",
    "        \n",
    "percentage_of_detected_faces = number_of_detected_faces / 100\n",
    "print(\"Percentage of detected faces in human dataset: \", percentage_of_detected_faces)\n",
    "\n",
    "number_of_detected_faces = 0\n",
    "for file in dog_files_short:\n",
    "    if face_detector(file):\n",
    "        number_of_detected_faces += 1\n",
    "        \n",
    "percentage_of_detected_faces = number_of_detected_faces / 100\n",
    "print(\"Percentage of detected faces in dog dataset: \", percentage_of_detected_faces)"
   ]
  },
  {
   "cell_type": "markdown",
   "metadata": {
    "deletable": true,
    "editable": true
   },
   "source": [
    "__Question 2:__ This algorithmic choice necessitates that we communicate to the user that we accept human images only when they provide a clear view of a face (otherwise, we risk having unneccessarily frustrated users!). In your opinion, is this a reasonable expectation to pose on the user? If not, can you think of a way to detect humans in images that does not necessitate an image with a clearly presented face?\n",
    "\n",
    "__Answer:__ If we design the UI in a way that clearly communicates this to the user, I think this is a totally reasonable design choice. We are talking about a fun app anyway and people are of course free to also try this with photos of their cats or horses or cars and find out what dog breed they resemble. This might just be rubbish, but it also might be a lot of fun.\n",
    "\n",
    "One approach to solve this, is to make a too stage approach. The first stage will try to find the location of faces in an image and the corresponding bounding box, and the second stage will take this area and do the analysis. This approach has been used e.g. at Baidu to make a face detection framework for allowing employees to enter restricted areas based on their face id.\n",
    "\n"
   ]
  },
  {
   "cell_type": "markdown",
   "metadata": {
    "deletable": true,
    "editable": true
   },
   "source": [
    "We suggest the face detector from OpenCV as a potential way to detect human images in your algorithm, but you are free to explore other approaches, especially approaches that make use of deep learning :).  Please use the code cell below to design and test your own face detection algorithm.  If you decide to pursue this _optional_ task, report performance on each of the datasets."
   ]
  },
  {
   "cell_type": "code",
   "execution_count": 40,
   "metadata": {
    "collapsed": true,
    "deletable": true,
    "editable": true
   },
   "outputs": [],
   "source": [
    "## (Optional) TODO: Report the performance of another  \n",
    "## face detection algorithm on the LFW dataset\n",
    "### Feel free to use as many code cells as needed.\n",
    "\n",
    "# Ideas for later: \n",
    "# 1. Use the dog and human datasets to train a CNN that can distinguish between the humans and the dogs for this specific dataset.\n",
    "# 2. Look for some existing algorithms that can be used (in TF or Keras). A first search didn't show anything promising.\n"
   ]
  },
  {
   "cell_type": "markdown",
   "metadata": {
    "deletable": true,
    "editable": true
   },
   "source": [
    "---\n",
    "<a id='step2'></a>\n",
    "## Step 2: Detect Dogs\n",
    "\n",
    "In this section, we use a pre-trained [ResNet-50](http://ethereon.github.io/netscope/#/gist/db945b393d40bfa26006) model to detect dogs in images.  Our first line of code downloads the ResNet-50 model, along with weights that have been trained on [ImageNet](http://www.image-net.org/), a very large, very popular dataset used for image classification and other vision tasks.  ImageNet contains over 10 million URLs, each linking to an image containing an object from one of [1000 categories](https://gist.github.com/yrevar/942d3a0ac09ec9e5eb3a).  Given an image, this pre-trained ResNet-50 model returns a prediction (derived from the available categories in ImageNet) for the object that is contained in the image."
   ]
  },
  {
   "cell_type": "code",
   "execution_count": 6,
   "metadata": {
    "collapsed": true,
    "deletable": true,
    "editable": true
   },
   "outputs": [],
   "source": [
    "from keras.applications.resnet50 import ResNet50\n",
    "\n",
    "# define ResNet50 model\n",
    "ResNet50_model = ResNet50(weights='imagenet')"
   ]
  },
  {
   "cell_type": "markdown",
   "metadata": {
    "deletable": true,
    "editable": true
   },
   "source": [
    "### Pre-process the Data\n",
    "\n",
    "When using TensorFlow as backend, Keras CNNs require a 4D array (which we'll also refer to as a 4D tensor) as input, with shape\n",
    "\n",
    "$$\n",
    "(\\text{nb_samples}, \\text{rows}, \\text{columns}, \\text{channels}),\n",
    "$$\n",
    "\n",
    "where `nb_samples` corresponds to the total number of images (or samples), and `rows`, `columns`, and `channels` correspond to the number of rows, columns, and channels for each image, respectively.  \n",
    "\n",
    "The `path_to_tensor` function below takes a string-valued file path to a color image as input and returns a 4D tensor suitable for supplying to a Keras CNN.  The function first loads the image and resizes it to a square image that is $224 \\times 224$ pixels.  Next, the image is converted to an array, which is then resized to a 4D tensor.  In this case, since we are working with color images, each image has three channels.  Likewise, since we are processing a single image (or sample), the returned tensor will always have shape\n",
    "\n",
    "$$\n",
    "(1, 224, 224, 3).\n",
    "$$\n",
    "\n",
    "The `paths_to_tensor` function takes a numpy array of string-valued image paths as input and returns a 4D tensor with shape \n",
    "\n",
    "$$\n",
    "(\\text{nb_samples}, 224, 224, 3).\n",
    "$$\n",
    "\n",
    "Here, `nb_samples` is the number of samples, or number of images, in the supplied array of image paths.  It is best to think of `nb_samples` as the number of 3D tensors (where each 3D tensor corresponds to a different image) in your dataset!"
   ]
  },
  {
   "cell_type": "code",
   "execution_count": 16,
   "metadata": {
    "collapsed": true,
    "deletable": true,
    "editable": true
   },
   "outputs": [],
   "source": [
    "from keras.preprocessing import image                  \n",
    "from tqdm import tqdm\n",
    "\n",
    "# Note: modified these to functions, so that we can later also read the inception tensors which \n",
    "# have a different format \n",
    "def path_to_tensor(img_path, width=224, height=224):\n",
    "    # loads RGB image as PIL.Image.Image type\n",
    "    img = image.load_img(img_path, target_size=(width, height))\n",
    "    # convert PIL.Image.Image type to 3D tensor with shape (width, heigth, 3)\n",
    "    x = image.img_to_array(img)\n",
    "    # convert 3D tensor to 4D tensor with shape (1, width, height, 3) and return 4D tensor\n",
    "    return np.expand_dims(x, axis=0)\n",
    "\n",
    "def paths_to_tensor(img_paths, width=224, height=224):\n",
    "    list_of_tensors = [path_to_tensor(img_path, width, height) for img_path in tqdm(img_paths)]\n",
    "    return np.vstack(list_of_tensors)"
   ]
  },
  {
   "cell_type": "markdown",
   "metadata": {
    "deletable": true,
    "editable": true
   },
   "source": [
    "### Making Predictions with ResNet-50\n",
    "\n",
    "Getting the 4D tensor ready for ResNet-50, and for any other pre-trained model in Keras, requires some additional processing.  First, the RGB image is converted to BGR by reordering the channels.  All pre-trained models have the additional normalization step that the mean pixel (expressed in RGB as $[103.939, 116.779, 123.68]$ and calculated from all pixels in all images in ImageNet) must be subtracted from every pixel in each image.  This is implemented in the imported function `preprocess_input`.  If you're curious, you can check the code for `preprocess_input` [here](https://github.com/fchollet/keras/blob/master/keras/applications/imagenet_utils.py).\n",
    "\n",
    "Now that we have a way to format our image for supplying to ResNet-50, we are now ready to use the model to extract the predictions.  This is accomplished with the `predict` method, which returns an array whose $i$-th entry is the model's predicted probability that the image belongs to the $i$-th ImageNet category.  This is implemented in the `ResNet50_predict_labels` function below.\n",
    "\n",
    "By taking the argmax of the predicted probability vector, we obtain an integer corresponding to the model's predicted object class, which we can identify with an object category through the use of this [dictionary](https://gist.github.com/yrevar/942d3a0ac09ec9e5eb3a). "
   ]
  },
  {
   "cell_type": "code",
   "execution_count": 8,
   "metadata": {
    "collapsed": true,
    "deletable": true,
    "editable": true
   },
   "outputs": [],
   "source": [
    "from keras.applications.resnet50 import preprocess_input, decode_predictions\n",
    "\n",
    "def ResNet50_predict_labels(img_path):\n",
    "    # returns prediction vector for image located at img_path\n",
    "    img = preprocess_input(path_to_tensor(img_path))\n",
    "    return np.argmax(ResNet50_model.predict(img))"
   ]
  },
  {
   "cell_type": "markdown",
   "metadata": {
    "deletable": true,
    "editable": true
   },
   "source": [
    "### Write a Dog Detector\n",
    "\n",
    "While looking at the [dictionary](https://gist.github.com/yrevar/942d3a0ac09ec9e5eb3a), you will notice that the categories corresponding to dogs appear in an uninterrupted sequence and correspond to dictionary keys 151-268, inclusive, to include all categories from `'Chihuahua'` to `'Mexican hairless'`.  Thus, in order to check to see if an image is predicted to contain a dog by the pre-trained ResNet-50 model, we need only check if the `ResNet50_predict_labels` function above returns a value between 151 and 268 (inclusive).\n",
    "\n",
    "We use these ideas to complete the `dog_detector` function below, which returns `True` if a dog is detected in an image (and `False` if not)."
   ]
  },
  {
   "cell_type": "code",
   "execution_count": 9,
   "metadata": {
    "collapsed": true,
    "deletable": true,
    "editable": true
   },
   "outputs": [],
   "source": [
    "### returns \"True\" if a dog is detected in the image stored at img_path\n",
    "def dog_detector(img_path):\n",
    "    prediction = ResNet50_predict_labels(img_path)\n",
    "    return ((prediction <= 268) & (prediction >= 151)) "
   ]
  },
  {
   "cell_type": "markdown",
   "metadata": {
    "deletable": true,
    "editable": true
   },
   "source": [
    "### (IMPLEMENTATION) Assess the Dog Detector\n",
    "\n",
    "__Question 3:__ Use the code cell below to test the performance of your `dog_detector` function.  \n",
    "- What percentage of the images in `human_files_short` have a detected dog?  \n",
    "- What percentage of the images in `dog_files_short` have a detected dog?\n",
    "\n",
    "__Answer:__ \n",
    "- Percentage of detected dogs in human dataset:  0.00 - 0.01\n",
    "- Percentage of detected dogs in dog dataset:  1.0"
   ]
  },
  {
   "cell_type": "code",
   "execution_count": 10,
   "metadata": {
    "collapsed": false,
    "deletable": true,
    "editable": true
   },
   "outputs": [
    {
     "name": "stdout",
     "output_type": "stream",
     "text": [
      "Percentage of detected dogs in human dataset:  0.0\n",
      "Percentage of detected dogs in dog dataset:  1.0\n"
     ]
    }
   ],
   "source": [
    "number_of_detected_dogs = 0\n",
    "for file in human_files_short:\n",
    "    if dog_detector(file):\n",
    "        number_of_detected_dogs += 1\n",
    "        \n",
    "percentage_of_detected_dogs = number_of_detected_dogs / 100\n",
    "print(\"Percentage of detected dogs in human dataset: \", percentage_of_detected_dogs)\n",
    "\n",
    "number_of_detected_dogs = 0\n",
    "for file in dog_files_short:\n",
    "    if dog_detector(file):\n",
    "        number_of_detected_dogs += 1\n",
    "        \n",
    "percentage_of_detected_dogs = number_of_detected_dogs / 100\n",
    "print(\"Percentage of detected dogs in dog dataset: \", percentage_of_detected_dogs)"
   ]
  },
  {
   "cell_type": "markdown",
   "metadata": {
    "deletable": true,
    "editable": true
   },
   "source": [
    "---\n",
    "<a id='step3'></a>\n",
    "## Step 3: Create a CNN to Classify Dog Breeds (from Scratch)\n",
    "\n",
    "Now that we have functions for detecting humans and dogs in images, we need a way to predict breed from images.  In this step, you will create a CNN that classifies dog breeds.  You must create your CNN _from scratch_ (so, you can't use transfer learning _yet_!), and you must attain a test accuracy of at least 1%.  In Step 5 of this notebook, you will have the opportunity to use transfer learning to create a CNN that attains greatly improved accuracy.\n",
    "\n",
    "Be careful with adding too many trainable layers!  More parameters means longer training, which means you are more likely to need a GPU to accelerate the training process.  Thankfully, Keras provides a handy estimate of the time that each epoch is likely to take; you can extrapolate this estimate to figure out how long it will take for your algorithm to train. \n",
    "\n",
    "We mention that the task of assigning breed to dogs from images is considered exceptionally challenging.  To see why, consider that *even a human* would have great difficulty in distinguishing between a Brittany and a Welsh Springer Spaniel.  \n",
    "\n",
    "Brittany | Welsh Springer Spaniel\n",
    "- | - \n",
    "<img src=\"images/Brittany_02625.jpg\" width=\"100\"> | <img src=\"images/Welsh_springer_spaniel_08203.jpg\" width=\"200\">\n",
    "\n",
    "It is not difficult to find other dog breed pairs with minimal inter-class variation (for instance, Curly-Coated Retrievers and American Water Spaniels).  \n",
    "\n",
    "Curly-Coated Retriever | American Water Spaniel\n",
    "- | -\n",
    "<img src=\"images/Curly-coated_retriever_03896.jpg\" width=\"200\"> | <img src=\"images/American_water_spaniel_00648.jpg\" width=\"200\">\n",
    "\n",
    "\n",
    "Likewise, recall that labradors come in yellow, chocolate, and black.  Your vision-based algorithm will have to conquer this high intra-class variation to determine how to classify all of these different shades as the same breed.  \n",
    "\n",
    "Yellow Labrador | Chocolate Labrador | Black Labrador\n",
    "- | -\n",
    "<img src=\"images/Labrador_retriever_06457.jpg\" width=\"150\"> | <img src=\"images/Labrador_retriever_06455.jpg\" width=\"240\"> | <img src=\"images/Labrador_retriever_06449.jpg\" width=\"220\">\n",
    "\n",
    "We also mention that random chance presents an exceptionally low bar: setting aside the fact that the classes are slightly imbalanced, a random guess will provide a correct answer roughly 1 in 133 times, which corresponds to an accuracy of less than 1%.  \n",
    "\n",
    "Remember that the practice is far ahead of the theory in deep learning.  Experiment with many different architectures, and trust your intuition.  And, of course, have fun! \n",
    "\n",
    "### Pre-process the Data\n",
    "\n",
    "We rescale the images by dividing every pixel in every image by 255."
   ]
  },
  {
   "cell_type": "code",
   "execution_count": 11,
   "metadata": {
    "collapsed": false,
    "deletable": true,
    "editable": true
   },
   "outputs": [
    {
     "name": "stderr",
     "output_type": "stream",
     "text": [
      "100%|██████████| 6680/6680 [00:58<00:00, 114.35it/s]\n",
      "100%|██████████| 835/835 [00:06<00:00, 129.62it/s]\n",
      "100%|██████████| 836/836 [00:06<00:00, 129.84it/s]\n"
     ]
    }
   ],
   "source": [
    "from PIL import ImageFile                            \n",
    "ImageFile.LOAD_TRUNCATED_IMAGES = True                 \n",
    "\n",
    "# pre-process the data for Keras\n",
    "train_tensors = paths_to_tensor(train_files).astype('float32')/255\n",
    "valid_tensors = paths_to_tensor(valid_files).astype('float32')/255\n",
    "test_tensors = paths_to_tensor(test_files).astype('float32')/255"
   ]
  },
  {
   "cell_type": "markdown",
   "metadata": {
    "deletable": true,
    "editable": true
   },
   "source": [
    "### (IMPLEMENTATION) Model Architecture\n",
    "\n",
    "Create a CNN to classify dog breed.  At the end of your code cell block, summarize the layers of your model by executing the line:\n",
    "    \n",
    "        model.summary()\n",
    "\n",
    "We have imported some Python modules to get you started, but feel free to import as many modules as you need.  If you end up getting stuck, here's a hint that specifies a model that trains relatively fast on CPU and attains >1% test accuracy in 5 epochs:\n",
    "\n",
    "![Sample CNN](images/sample_cnn.png)\n",
    "           \n",
    "__Question 4:__ Outline the steps you took to get to your final CNN architecture and your reasoning at each step.  If you chose to use the hinted architecture above, describe why you think that CNN architecture should work well for the image classification task.\n",
    "\n",
    "__Answer:__ My approach was to use the model from the cifar-10 classification as a baseline. Once I checked the number of parameters it was very huge. This was due to the size of the images being 224 x 224 instead of 32 x 32. So I reduced the number of parameters to enable faster training and avoid overfitting by increasing the sizes of the max pooling layers from 2 to 6. This helps to reduce the size of the layers and therefore the number of parameters. I also reduced the number of filters to 16 and 32 again to reduce the number of parameters. The dropouts were kept.\n",
    "The final step was to massively reduce the nodes in the last fully connected layer. I took a hint from the architecture above. It probably makes sense to have at least one neuron representing one dog breed. So I chose the number of nodes to 133.\n",
    "Additionally, I changed the optimizer to Adam, as in my experience, Adam works better as RMSProp, as it combines the methods from Momentum and RMSProp.\n",
    "The test accuracy after 10 epochs was 6.1005%.\n",
    "The validation accuracy in the last step was around 6.8% or even higher. That means that we might already be in some state of overfitting, but it is hard to tell at this stage. \n",
    "Later on, I had run the whole notebook and loaded the weihgts, but I had to run it again, so this way, I ran an additional 10 epochs and reached a accuracy of 10.6459%, so overfitting was not so severe at all.\n",
    "As I exceeded the requirements of 1% by far and training takes a lot of time, I didn't push much further. But I think there is a lot of room for improvement, which of course is shown in the later exercises.\n",
    "\n",
    "I also compared my results to the excellent notebook from Jay Madhava at https://github.com/madhavajay/nd889/blob/master/2_deep_learning/1_dog_breed_classifier/dog_app.ipynb\n",
    "and found out that my network performs better without data augmentation. So I did not work further on this.\n"
   ]
  },
  {
   "cell_type": "code",
   "execution_count": 47,
   "metadata": {
    "collapsed": false,
    "deletable": true,
    "editable": true
   },
   "outputs": [
    {
     "name": "stdout",
     "output_type": "stream",
     "text": [
      "_________________________________________________________________\n",
      "Layer (type)                 Output Shape              Param #   \n",
      "=================================================================\n",
      "conv2d_5 (Conv2D)            (None, 224, 224, 16)      448       \n",
      "_________________________________________________________________\n",
      "conv2d_6 (Conv2D)            (None, 224, 224, 16)      2320      \n",
      "_________________________________________________________________\n",
      "max_pooling2d_51 (MaxPooling (None, 37, 37, 16)        0         \n",
      "_________________________________________________________________\n",
      "dropout_4 (Dropout)          (None, 37, 37, 16)        0         \n",
      "_________________________________________________________________\n",
      "conv2d_7 (Conv2D)            (None, 37, 37, 32)        4640      \n",
      "_________________________________________________________________\n",
      "conv2d_8 (Conv2D)            (None, 37, 37, 32)        9248      \n",
      "_________________________________________________________________\n",
      "max_pooling2d_52 (MaxPooling (None, 6, 6, 32)          0         \n",
      "_________________________________________________________________\n",
      "dropout_5 (Dropout)          (None, 6, 6, 32)          0         \n",
      "_________________________________________________________________\n",
      "flatten_4 (Flatten)          (None, 1152)              0         \n",
      "_________________________________________________________________\n",
      "dense_5 (Dense)              (None, 133)               153349    \n",
      "_________________________________________________________________\n",
      "dropout_6 (Dropout)          (None, 133)               0         \n",
      "_________________________________________________________________\n",
      "dense_6 (Dense)              (None, 133)               17822     \n",
      "=================================================================\n",
      "Total params: 187,827\n",
      "Trainable params: 187,827\n",
      "Non-trainable params: 0\n",
      "_________________________________________________________________\n"
     ]
    }
   ],
   "source": [
    "from keras.layers import Conv2D, MaxPooling2D, GlobalAveragePooling2D\n",
    "from keras.layers import Dropout, Flatten, Dense\n",
    "from keras.models import Sequential\n",
    "\n",
    "model = Sequential()\n",
    "\n",
    "model.add(Conv2D(filters=16, kernel_size=3, padding='same', activation='relu', \n",
    "                        input_shape=(224, 224, 3)))\n",
    "model.add(Conv2D(filters=16, kernel_size=3, padding='same', activation='relu'))\n",
    "model.add(MaxPooling2D(pool_size=6))\n",
    "model.add(Dropout(0.25))\n",
    "\n",
    "model.add(Conv2D(filters=32, kernel_size=3, padding='same', activation='relu'))\n",
    "model.add(Conv2D(filters=32, kernel_size=3, padding='same', activation='relu'))\n",
    "model.add(MaxPooling2D(pool_size=6))\n",
    "model.add(Dropout(0.3))\n",
    "\n",
    "model.add(Flatten())\n",
    "\n",
    "model.add(Dense(133, activation='relu'))\n",
    "model.add(Dropout(0.5))\n",
    "\n",
    "model.add(Dense(133, activation='softmax'))\n",
    "\n",
    "model.summary()"
   ]
  },
  {
   "cell_type": "markdown",
   "metadata": {
    "deletable": true,
    "editable": true
   },
   "source": [
    "### Compile the Model"
   ]
  },
  {
   "cell_type": "code",
   "execution_count": 48,
   "metadata": {
    "collapsed": true,
    "deletable": true,
    "editable": true
   },
   "outputs": [],
   "source": [
    "model.compile(optimizer='adam', loss='categorical_crossentropy', metrics=['accuracy'])"
   ]
  },
  {
   "cell_type": "markdown",
   "metadata": {
    "deletable": true,
    "editable": true
   },
   "source": [
    "### (IMPLEMENTATION) Train the Model\n",
    "\n",
    "Train your model in the code cell below.  Use model checkpointing to save the model that attains the best validation loss.\n",
    "\n",
    "You are welcome to [augment the training data](https://blog.keras.io/building-powerful-image-classification-models-using-very-little-data.html), but this is not a requirement. "
   ]
  },
  {
   "cell_type": "code",
   "execution_count": 13,
   "metadata": {
    "collapsed": true
   },
   "outputs": [],
   "source": [
    "# helpers for training CNNs taken from \n",
    "# https://github.com/madhavajay/nd889/blob/master/2_deep_learning/1_dog_breed_classifier/dog_app.ipynb\n",
    "# many thanks to Jay for these helper functions\n",
    "\n",
    "import keras\n",
    "import timeit\n",
    "\n",
    "# graph the history of model.fit\n",
    "def show_history_graph(history):\n",
    "    # summarize history for accuracy\n",
    "    plt.plot(history.history['acc'])\n",
    "    plt.plot(history.history['val_acc'])\n",
    "    plt.title('model accuracy')\n",
    "    plt.ylabel('accuracy')\n",
    "    plt.xlabel('epoch')\n",
    "    plt.legend(['train', 'test'], loc='upper left')\n",
    "    plt.show()\n",
    "    # summarize history for loss\n",
    "    plt.plot(history.history['loss'])\n",
    "    plt.plot(history.history['val_loss'])\n",
    "    plt.title('model loss')\n",
    "    plt.ylabel('loss')\n",
    "    plt.xlabel('epoch')\n",
    "    plt.legend(['train', 'test'], loc='upper left')\n",
    "    plt.show() \n",
    "\n",
    "# callback to show the total time taken during training and for each epoch\n",
    "class EpochTimer(keras.callbacks.Callback):\n",
    "    train_start = 0\n",
    "    train_end = 0\n",
    "    epoch_start = 0\n",
    "    epoch_end = 0\n",
    "    \n",
    "    def get_time(self):\n",
    "        return timeit.default_timer()\n",
    "\n",
    "    def on_train_begin(self, logs={}):\n",
    "        self.train_start = self.get_time()\n",
    " \n",
    "    def on_train_end(self, logs={}):\n",
    "        self.train_end = self.get_time()\n",
    "        print('Training took {} seconds'.format(self.train_end - self.train_start))\n",
    " \n",
    "    def on_epoch_begin(self, epoch, logs={}):\n",
    "        self.epoch_start = self.get_time()\n",
    " \n",
    "    def on_epoch_end(self, epoch, logs={}):\n",
    "        self.epoch_end = self.get_time()\n",
    "        print('Epoch {} took {} seconds'.format(epoch, self.epoch_end - self.epoch_start))"
   ]
  },
  {
   "cell_type": "code",
   "execution_count": 49,
   "metadata": {
    "collapsed": false,
    "deletable": true,
    "editable": true
   },
   "outputs": [
    {
     "name": "stdout",
     "output_type": "stream",
     "text": [
      "Train on 6680 samples, validate on 835 samples\n",
      "Epoch 1/10\n",
      "6660/6680 [============================>.] - ETA: 0s - loss: 4.8869 - acc: 0.0093Epoch 00000: val_loss improved from inf to 4.87375, saving model to saved_models/weights.best.from_scratch.hdf5\n",
      "6680/6680 [==============================] - 57s - loss: 4.8869 - acc: 0.0093 - val_loss: 4.8737 - val_acc: 0.0108\n",
      "Epoch 2/10\n",
      "6660/6680 [============================>.] - ETA: 0s - loss: 4.8710 - acc: 0.0122  ETA: 22s  - ETA: 21s - loss: 4. - ETA: 20s - loss: 4.8720 - acc: 0. - E - ETA: 13s - loss: 4.8731 - acc:  - ETA: 5s - loss: 4.8716 - acc: 0.012 - ETA: 5s - loss: 4. - ETA:Epoch 00001: val_loss improved from 4.87375 to 4.86011, saving model to saved_models/weights.best.from_scratch.hdf5\n",
      "6680/6680 [==============================] - 35s - loss: 4.8710 - acc: 0.0121 - val_loss: 4.8601 - val_acc: 0.0120\n",
      "Epoch 3/10\n",
      "6660/6680 [============================>.] - ETA: 0s - loss: 4.8043 - acc: 0.0186Epoch 00002: val_loss improved from 4.86011 to 4.69888, saving model to saved_models/weights.best.from_scratch.hdf5\n",
      "6680/6680 [==============================] - 35s - loss: 4.8041 - acc: 0.0186 - val_loss: 4.6989 - val_acc: 0.0323\n",
      "Epoch 4/10\n",
      "6660/6680 [============================>.] - ETA: 0s - loss: 4.6604 - acc: 0.0270- E - ETA: 0s - loss: 4.6618 - acc: - ETA: 0s - loss: 4.6604 - acc: 0.0269Epoch 00003: val_loss improved from 4.69888 to 4.59760, saving model to saved_models/weights.best.from_scratch.hdf5\n",
      "6680/6680 [==============================] - 35s - loss: 4.6600 - acc: 0.0269 - val_loss: 4.5976 - val_acc: 0.0371\n",
      "Epoch 5/10\n",
      "6660/6680 [============================>.] - ETA: 0s - loss: 4.5417 - acc: 0.0362- ETA: 4s - loss: 4. - ETA: 2s - lossEpoch 00004: val_loss improved from 4.59760 to 4.46542, saving model to saved_models/weights.best.from_scratch.hdf5\n",
      "6680/6680 [==============================] - 35s - loss: 4.5419 - acc: 0.0361 - val_loss: 4.4654 - val_acc: 0.0551\n",
      "Epoch 6/10\n",
      "6660/6680 [============================>.] - ETA: 0s - loss: 4.4327 - acc: 0.0486Epoch 00005: val_loss improved from 4.46542 to 4.39021, saving model to saved_models/weights.best.from_scratch.hdf5\n",
      "6680/6680 [==============================] - 35s - loss: 4.4327 - acc: 0.0487 - val_loss: 4.3902 - val_acc: 0.0599\n",
      "Epoch 7/10\n",
      "6660/6680 [============================>.] - ETA: 0s - loss: 4.2717 - acc: 0.0640Epoch 00006: val_loss improved from 4.39021 to 4.22818, saving model to saved_models/weights.best.from_scratch.hdf5\n",
      "6680/6680 [==============================] - 35s - loss: 4.2709 - acc: 0.0639 - val_loss: 4.2282 - val_acc: 0.0754\n",
      "Epoch 8/10\n",
      "6660/6680 [============================>.] - ETA: 0s - loss: 4.1720 - acc: 0.0718Epoch 00007: val_loss improved from 4.22818 to 4.19337, saving model to saved_models/weights.best.from_scratch.hdf5\n",
      "6680/6680 [==============================] - 35s - loss: 4.1711 - acc: 0.0717 - val_loss: 4.1934 - val_acc: 0.0731\n",
      "Epoch 9/10\n",
      "6660/6680 [============================>.] - ETA: 0s - loss: 4.0807 - acc: 0.0803  ETA:  - ETA: 16 - ETA: 13s -  - ETA: 11s - loss: 4.Epoch 00008: val_loss improved from 4.19337 to 4.07537, saving model to saved_models/weights.best.from_scratch.hdf5\n",
      "6680/6680 [==============================] - 35s - loss: 4.0805 - acc: 0.0801 - val_loss: 4.0754 - val_acc: 0.0946\n",
      "Epoch 10/10\n",
      "6660/6680 [============================>.] - ETA: 0s - loss: 3.9824 - acc: 0.0929- ETA: 0s - loss: 3.9844 - acc: 0Epoch 00009: val_loss improved from 4.07537 to 4.01487, saving model to saved_models/weights.best.from_scratch.hdf5\n",
      "6680/6680 [==============================] - 35s - loss: 3.9828 - acc: 0.0930 - val_loss: 4.0149 - val_acc: 0.0838\n"
     ]
    },
    {
     "data": {
      "text/plain": [
       "<keras.callbacks.History at 0x7ff7ef2c3f28>"
      ]
     },
     "execution_count": 49,
     "metadata": {},
     "output_type": "execute_result"
    }
   ],
   "source": [
    "from keras.callbacks import ModelCheckpoint  \n",
    "\n",
    "epochs = 10\n",
    "epochtimer = EpochTimer()\n",
    "\n",
    "### Do NOT modify the code below this line.\n",
    "\n",
    "checkpointer = ModelCheckpoint(filepath='saved_models/weights.best.from_scratch.hdf5', \n",
    "                               verbose=1, save_best_only=True)\n",
    "\n",
    "hist = model.fit(train_tensors, train_targets, \n",
    "              validation_data=(valid_tensors, valid_targets),\n",
    "              epochs=epochs, batch_size=20, callbacks=[checkpointer, epochtimer], verbose=1)\n",
    "\n",
    "show_history_graph(hist)"
   ]
  },
  {
   "cell_type": "markdown",
   "metadata": {
    "deletable": true,
    "editable": true
   },
   "source": [
    "### Load the Model with the Best Validation Loss"
   ]
  },
  {
   "cell_type": "code",
   "execution_count": 50,
   "metadata": {
    "collapsed": true,
    "deletable": true,
    "editable": true
   },
   "outputs": [],
   "source": [
    "model.load_weights('saved_models/weights.best.from_scratch.hdf5')"
   ]
  },
  {
   "cell_type": "markdown",
   "metadata": {
    "deletable": true,
    "editable": true
   },
   "source": [
    "### Test the Model\n",
    "\n",
    "Try out your model on the test dataset of dog images.  Ensure that your test accuracy is greater than 1%."
   ]
  },
  {
   "cell_type": "code",
   "execution_count": 51,
   "metadata": {
    "collapsed": false,
    "deletable": true,
    "editable": true
   },
   "outputs": [
    {
     "name": "stdout",
     "output_type": "stream",
     "text": [
      "Test accuracy: 10.6459%\n"
     ]
    }
   ],
   "source": [
    "# get index of predicted dog breed for each image in test set\n",
    "dog_breed_predictions = [np.argmax(model.predict(np.expand_dims(tensor, axis=0))) for tensor in test_tensors]\n",
    "\n",
    "# report test accuracy\n",
    "test_accuracy = 100*np.sum(np.array(dog_breed_predictions)==np.argmax(test_targets, axis=1))/len(dog_breed_predictions)\n",
    "print('Test accuracy: %.4f%%' % test_accuracy)"
   ]
  },
  {
   "cell_type": "markdown",
   "metadata": {
    "deletable": true,
    "editable": true
   },
   "source": [
    "---\n",
    "<a id='step4'></a>\n",
    "## Step 4: Use a CNN to Classify Dog Breeds\n",
    "\n",
    "To reduce training time without sacrificing accuracy, we show you how to train a CNN using transfer learning.  In the following step, you will get a chance to use transfer learning to train your own CNN.\n",
    "\n",
    "### Obtain Bottleneck Features"
   ]
  },
  {
   "cell_type": "code",
   "execution_count": 52,
   "metadata": {
    "collapsed": true,
    "deletable": true,
    "editable": true
   },
   "outputs": [],
   "source": [
    "bottleneck_features = np.load('bottleneck_features/DogVGG16Data.npz')\n",
    "train_VGG16 = bottleneck_features['train']\n",
    "valid_VGG16 = bottleneck_features['valid']\n",
    "test_VGG16 = bottleneck_features['test']"
   ]
  },
  {
   "cell_type": "markdown",
   "metadata": {
    "deletable": true,
    "editable": true
   },
   "source": [
    "### Model Architecture\n",
    "\n",
    "The model uses the the pre-trained VGG-16 model as a fixed feature extractor, where the last convolutional output of VGG-16 is fed as input to our model.  We only add a global average pooling layer and a fully connected layer, where the latter contains one node for each dog category and is equipped with a softmax."
   ]
  },
  {
   "cell_type": "code",
   "execution_count": 53,
   "metadata": {
    "collapsed": false,
    "deletable": true,
    "editable": true
   },
   "outputs": [
    {
     "name": "stdout",
     "output_type": "stream",
     "text": [
      "_________________________________________________________________\n",
      "Layer (type)                 Output Shape              Param #   \n",
      "=================================================================\n",
      "global_average_pooling2d_3 ( (None, 512)               0         \n",
      "_________________________________________________________________\n",
      "dense_7 (Dense)              (None, 133)               68229     \n",
      "=================================================================\n",
      "Total params: 68,229\n",
      "Trainable params: 68,229\n",
      "Non-trainable params: 0\n",
      "_________________________________________________________________\n"
     ]
    }
   ],
   "source": [
    "VGG16_model = Sequential()\n",
    "VGG16_model.add(GlobalAveragePooling2D(input_shape=train_VGG16.shape[1:]))\n",
    "VGG16_model.add(Dense(133, activation='softmax'))\n",
    "\n",
    "VGG16_model.summary()"
   ]
  },
  {
   "cell_type": "markdown",
   "metadata": {
    "deletable": true,
    "editable": true
   },
   "source": [
    "### Compile the Model"
   ]
  },
  {
   "cell_type": "code",
   "execution_count": 54,
   "metadata": {
    "collapsed": true,
    "deletable": true,
    "editable": true
   },
   "outputs": [],
   "source": [
    "VGG16_model.compile(loss='categorical_crossentropy', optimizer='rmsprop', metrics=['accuracy'])"
   ]
  },
  {
   "cell_type": "markdown",
   "metadata": {
    "deletable": true,
    "editable": true
   },
   "source": [
    "### Train the Model"
   ]
  },
  {
   "cell_type": "code",
   "execution_count": 55,
   "metadata": {
    "collapsed": false,
    "deletable": true,
    "editable": true
   },
   "outputs": [
    {
     "name": "stdout",
     "output_type": "stream",
     "text": [
      "Train on 6680 samples, validate on 835 samples\n",
      "Epoch 1/20\n",
      "6660/6680 [============================>.] - ETA: 0s - loss: 12.6215 - acc: 0.1119Epoch 00000: val_loss improved from inf to 11.21869, saving model to saved_models/weights.best.VGG16.hdf5\n",
      "6680/6680 [==============================] - 19s - loss: 12.6224 - acc: 0.1121 - val_loss: 11.2187 - val_acc: 0.1916\n",
      "Epoch 2/20\n",
      "6600/6680 [============================>.] - ETA: 0s - loss: 10.6202 - acc: 0.2629Epoch 00001: val_loss improved from 11.21869 to 10.66728, saving model to saved_models/weights.best.VGG16.hdf5\n",
      "6680/6680 [==============================] - 5s - loss: 10.6155 - acc: 0.2636 - val_loss: 10.6673 - val_acc: 0.2623\n",
      "Epoch 3/20\n",
      "6620/6680 [============================>.] - ETA: 0s - loss: 10.2118 - acc: 0.3139Epoch 00002: val_loss improved from 10.66728 to 10.52781, saving model to saved_models/weights.best.VGG16.hdf5\n",
      "6680/6680 [==============================] - 5s - loss: 10.2156 - acc: 0.3135 - val_loss: 10.5278 - val_acc: 0.2802\n",
      "Epoch 4/20\n",
      "6600/6680 [============================>.] - ETA: 0s - loss: 10.0674 - acc: 0.3420Epoch 00003: val_loss did not improve\n",
      "6680/6680 [==============================] - 5s - loss: 10.0605 - acc: 0.3422 - val_loss: 10.5381 - val_acc: 0.2886\n",
      "Epoch 5/20\n",
      "6620/6680 [============================>.] - ETA: 0s - loss: 9.9841 - acc: 0.3576Epoch 00004: val_loss improved from 10.52781 to 10.45448, saving model to saved_models/weights.best.VGG16.hdf5\n",
      "6680/6680 [==============================] - 5s - loss: 9.9815 - acc: 0.3578 - val_loss: 10.4545 - val_acc: 0.2910\n",
      "Epoch 6/20\n",
      "6640/6680 [============================>.] - ETA: 0s - loss: 9.9269 - acc: 0.3663Epoch 00005: val_loss improved from 10.45448 to 10.40803, saving model to saved_models/weights.best.VGG16.hdf5\n",
      "6680/6680 [==============================] - 5s - loss: 9.9334 - acc: 0.3659 - val_loss: 10.4080 - val_acc: 0.2994\n",
      "Epoch 7/20\n",
      "6600/6680 [============================>.] - ETA: 0s - loss: 9.8835 - acc: 0.3739Epoch 00006: val_loss improved from 10.40803 to 10.34101, saving model to saved_models/weights.best.VGG16.hdf5\n",
      "6680/6680 [==============================] - 5s - loss: 9.8986 - acc: 0.3731 - val_loss: 10.3410 - val_acc: 0.3102\n",
      "Epoch 8/20\n",
      "6600/6680 [============================>.] - ETA: 0s - loss: 9.7899 - acc: 0.3765Epoch 00007: val_loss improved from 10.34101 to 10.23656, saving model to saved_models/weights.best.VGG16.hdf5\n",
      "6680/6680 [==============================] - 5s - loss: 9.7827 - acc: 0.3769 - val_loss: 10.2366 - val_acc: 0.3102\n",
      "Epoch 9/20\n",
      "6640/6680 [============================>.] - ETA: 0s - loss: 9.6278 - acc: 0.3864Epoch 00008: val_loss improved from 10.23656 to 9.95909, saving model to saved_models/weights.best.VGG16.hdf5\n",
      "6680/6680 [==============================] - 5s - loss: 9.6130 - acc: 0.3873 - val_loss: 9.9591 - val_acc: 0.3174\n",
      "Epoch 10/20\n",
      "6620/6680 [============================>.] - ETA: 0s - loss: 9.4266 - acc: 0.4011Epoch 00009: val_loss improved from 9.95909 to 9.86261, saving model to saved_models/weights.best.VGG16.hdf5\n",
      "6680/6680 [==============================] - 5s - loss: 9.4204 - acc: 0.4013 - val_loss: 9.8626 - val_acc: 0.3329\n",
      "Epoch 11/20\n",
      "6640/6680 [============================>.] - ETA: 0s - loss: 9.1542 - acc: 0.4084Epoch 00010: val_loss improved from 9.86261 to 9.58777, saving model to saved_models/weights.best.VGG16.hdf5\n",
      "6680/6680 [==============================] - 5s - loss: 9.1449 - acc: 0.4090 - val_loss: 9.5878 - val_acc: 0.3329\n",
      "Epoch 12/20\n",
      "6600/6680 [============================>.] - ETA: 0s - loss: 8.9103 - acc: 0.4302Epoch 00011: val_loss improved from 9.58777 to 9.40255, saving model to saved_models/weights.best.VGG16.hdf5\n",
      "6680/6680 [==============================] - 5s - loss: 8.9071 - acc: 0.4302 - val_loss: 9.4026 - val_acc: 0.3521\n",
      "Epoch 13/20\n",
      "6600/6680 [============================>.] - ETA: 0s - loss: 8.7462 - acc: 0.4400Epoch 00012: val_loss improved from 9.40255 to 9.33868, saving model to saved_models/weights.best.VGG16.hdf5\n",
      "6680/6680 [==============================] - 5s - loss: 8.7459 - acc: 0.4400 - val_loss: 9.3387 - val_acc: 0.3569\n",
      "Epoch 14/20\n",
      "6640/6680 [============================>.] - ETA: 0s - loss: 8.6294 - acc: 0.4526Epoch 00013: val_loss improved from 9.33868 to 9.20304, saving model to saved_models/weights.best.VGG16.hdf5\n",
      "6680/6680 [==============================] - 5s - loss: 8.6411 - acc: 0.4516 - val_loss: 9.2030 - val_acc: 0.3677\n",
      "Epoch 15/20\n",
      "6640/6680 [============================>.] - ETA: 0s - loss: 8.5398 - acc: 0.4610Epoch 00014: val_loss improved from 9.20304 to 9.10512, saving model to saved_models/weights.best.VGG16.hdf5\n",
      "6680/6680 [==============================] - 5s - loss: 8.5273 - acc: 0.4618 - val_loss: 9.1051 - val_acc: 0.3760\n",
      "Epoch 16/20\n",
      "6580/6680 [============================>.] - ETA: 0s - loss: 8.4850 - acc: 0.4631Epoch 00015: val_loss did not improve\n",
      "6680/6680 [==============================] - 4s - loss: 8.4914 - acc: 0.4626 - val_loss: 9.1237 - val_acc: 0.3641\n",
      "Epoch 17/20\n",
      "6660/6680 [============================>.] - ETA: 0s - loss: 8.3301 - acc: 0.4649Epoch 00016: val_loss improved from 9.10512 to 9.05872, saving model to saved_models/weights.best.VGG16.hdf5\n",
      "6680/6680 [==============================] - 5s - loss: 8.3317 - acc: 0.4648 - val_loss: 9.0587 - val_acc: 0.3749\n",
      "Epoch 18/20\n",
      "6600/6680 [============================>.] - ETA: 0s - loss: 8.2690 - acc: 0.4747Epoch 00017: val_loss improved from 9.05872 to 8.96935, saving model to saved_models/weights.best.VGG16.hdf5\n",
      "6680/6680 [==============================] - 5s - loss: 8.2635 - acc: 0.4751 - val_loss: 8.9693 - val_acc: 0.3665\n",
      "Epoch 19/20\n",
      "6660/6680 [============================>.] - ETA: 0s - loss: 8.1023 - acc: 0.4842Epoch 00018: val_loss improved from 8.96935 to 8.74283, saving model to saved_models/weights.best.VGG16.hdf5\n",
      "6680/6680 [==============================] - 4s - loss: 8.0973 - acc: 0.4846 - val_loss: 8.7428 - val_acc: 0.3904\n",
      "Epoch 20/20\n",
      "6620/6680 [============================>.] - ETA: 0s - loss: 7.9837 - acc: 0.4932Epoch 00019: val_loss did not improve\n",
      "6680/6680 [==============================] - 5s - loss: 7.9748 - acc: 0.4939 - val_loss: 8.7497 - val_acc: 0.3916\n"
     ]
    },
    {
     "data": {
      "text/plain": [
       "<keras.callbacks.History at 0x7ff7bd161e48>"
      ]
     },
     "execution_count": 55,
     "metadata": {},
     "output_type": "execute_result"
    }
   ],
   "source": [
    "epochtimer = EpochTimer()\n",
    "\n",
    "checkpointer = ModelCheckpoint(filepath='saved_models/weights.best.VGG16.hdf5', \n",
    "                               verbose=1, save_best_only=True)\n",
    "\n",
    "hist = VGG16_model.fit(train_VGG16, train_targets, \n",
    "              validation_data=(valid_VGG16, valid_targets),\n",
    "              epochs=20, batch_size=20, callbacks=[checkpointer, epochtimer], verbose=1)\n",
    "\n",
    "show_history_graph(hist)"
   ]
  },
  {
   "cell_type": "markdown",
   "metadata": {
    "deletable": true,
    "editable": true
   },
   "source": [
    "### Load the Model with the Best Validation Loss"
   ]
  },
  {
   "cell_type": "code",
   "execution_count": 56,
   "metadata": {
    "collapsed": true,
    "deletable": true,
    "editable": true
   },
   "outputs": [],
   "source": [
    "VGG16_model.load_weights('saved_models/weights.best.VGG16.hdf5')"
   ]
  },
  {
   "cell_type": "markdown",
   "metadata": {
    "deletable": true,
    "editable": true
   },
   "source": [
    "### Test the Model\n",
    "\n",
    "Now, we can use the CNN to test how well it identifies breed within our test dataset of dog images.  We print the test accuracy below."
   ]
  },
  {
   "cell_type": "code",
   "execution_count": 57,
   "metadata": {
    "collapsed": false,
    "deletable": true,
    "editable": true
   },
   "outputs": [
    {
     "name": "stdout",
     "output_type": "stream",
     "text": [
      "Test accuracy: 40.7895%\n"
     ]
    }
   ],
   "source": [
    "# get index of predicted dog breed for each image in test set\n",
    "VGG16_predictions = [np.argmax(VGG16_model.predict(np.expand_dims(feature, axis=0))) for feature in test_VGG16]\n",
    "\n",
    "# report test accuracy\n",
    "test_accuracy = 100*np.sum(np.array(VGG16_predictions)==np.argmax(test_targets, axis=1))/len(VGG16_predictions)\n",
    "print('Test accuracy: %.4f%%' % test_accuracy)"
   ]
  },
  {
   "cell_type": "markdown",
   "metadata": {
    "deletable": true,
    "editable": true
   },
   "source": [
    "### Predict Dog Breed with the Model"
   ]
  },
  {
   "cell_type": "code",
   "execution_count": 58,
   "metadata": {
    "collapsed": true,
    "deletable": true,
    "editable": true
   },
   "outputs": [],
   "source": [
    "from extract_bottleneck_features import *\n",
    "\n",
    "def VGG16_predict_breed(img_path):\n",
    "    # extract bottleneck features\n",
    "    bottleneck_feature = extract_VGG16(path_to_tensor(img_path))\n",
    "    # obtain predicted vector\n",
    "    predicted_vector = VGG16_model.predict(bottleneck_feature)\n",
    "    # return dog breed that is predicted by the model\n",
    "    return dog_names[np.argmax(predicted_vector)]"
   ]
  },
  {
   "cell_type": "markdown",
   "metadata": {
    "deletable": true,
    "editable": true
   },
   "source": [
    "---\n",
    "<a id='step5'></a>\n",
    "## Step 5: Create a CNN to Classify Dog Breeds (using Transfer Learning)\n",
    "\n",
    "You will now use transfer learning to create a CNN that can identify dog breed from images.  Your CNN must attain at least 60% accuracy on the test set.\n",
    "\n",
    "In Step 4, we used transfer learning to create a CNN using VGG-16 bottleneck features.  In this section, you must use the bottleneck features from a different pre-trained model.  To make things easier for you, we have pre-computed the features for all of the networks that are currently available in Keras:\n",
    "- [VGG-19](https://s3-us-west-1.amazonaws.com/udacity-aind/dog-project/DogVGG19Data.npz) bottleneck features\n",
    "- [ResNet-50](https://s3-us-west-1.amazonaws.com/udacity-aind/dog-project/DogResnet50Data.npz) bottleneck features\n",
    "- [Inception](https://s3-us-west-1.amazonaws.com/udacity-aind/dog-project/DogInceptionV3Data.npz) bottleneck features\n",
    "- [Xception](https://s3-us-west-1.amazonaws.com/udacity-aind/dog-project/DogXceptionData.npz) bottleneck features\n",
    "\n",
    "The files are encoded as such:\n",
    "\n",
    "    Dog{network}Data.npz\n",
    "    \n",
    "where `{network}`, in the above filename, can be one of `VGG19`, `Resnet50`, `InceptionV3`, or `Xception`.  Pick one of the above architectures, download the corresponding bottleneck features, and store the downloaded file in the `bottleneck_features/` folder in the repository.\n",
    "\n",
    "### (IMPLEMENTATION) Obtain Bottleneck Features\n",
    "\n",
    "In the code block below, extract the bottleneck features corresponding to the train, test, and validation sets by running the following:\n",
    "\n",
    "    bottleneck_features = np.load('bottleneck_features/Dog{network}Data.npz')\n",
    "    train_{network} = bottleneck_features['train']\n",
    "    valid_{network} = bottleneck_features['valid']\n",
    "    test_{network} = bottleneck_features['test']"
   ]
  },
  {
   "cell_type": "code",
   "execution_count": 45,
   "metadata": {
    "collapsed": true,
    "deletable": true,
    "editable": true
   },
   "outputs": [],
   "source": [
    "resnet_bottleneck_features = np.load('bottleneck_features/DogResnet50Data.npz')\n",
    "train_resnet50 = resnet_bottleneck_features['train']\n",
    "valid_resnet50 = resnet_bottleneck_features['valid']\n",
    "test_resnet50 = resnet_bottleneck_features['test']"
   ]
  },
  {
   "cell_type": "markdown",
   "metadata": {
    "deletable": true,
    "editable": true
   },
   "source": [
    "### (IMPLEMENTATION) Model Architecture\n",
    "\n",
    "Create a CNN to classify dog breed.  At the end of your code cell block, summarize the layers of your model by executing the line:\n",
    "    \n",
    "        <your model's name>.summary()\n",
    "   \n",
    "__Question 5:__ Outline the steps you took to get to your final CNN architecture and your reasoning at each step.  Describe why you think the architecture is suitable for the current problem.\n",
    "\n",
    "__Answer:__ I basically just did copy and paste from the VGG16 model, but renamed everything to Resnet50. This resulted in a performance / accuracy of 83.4928%, which far exceeds the requirements. It was interesting to observe that the model converged quite early (epoch 11) and then overfitted severely.\n",
    "This suggests to use additional methods to reduce this overfitting with dropouts, data augmentation as the dataset is quite small and a more complex model at the end, maybe with several fully conneted layers resembling the original structure of ResNet.\n",
    "\n",
    "Some of these experiments were done (see section 8 for results and comments).\n",
    "\n",
    "During these experiements, I also checked out to change the batch size to 64 and got test accuracy of 84.6890%.\n"
   ]
  },
  {
   "cell_type": "code",
   "execution_count": 46,
   "metadata": {
    "collapsed": false,
    "deletable": true,
    "editable": true
   },
   "outputs": [
    {
     "name": "stdout",
     "output_type": "stream",
     "text": [
      "_________________________________________________________________\n",
      "Layer (type)                 Output Shape              Param #   \n",
      "=================================================================\n",
      "global_average_pooling2d_7 ( (None, 2048)              0         \n",
      "_________________________________________________________________\n",
      "dense_24 (Dense)             (None, 133)               272517    \n",
      "=================================================================\n",
      "Total params: 272,517\n",
      "Trainable params: 272,517\n",
      "Non-trainable params: 0\n",
      "_________________________________________________________________\n"
     ]
    }
   ],
   "source": [
    "Resnet50_model = Sequential()\n",
    "Resnet50_model.add(GlobalAveragePooling2D(input_shape=train_resnet50.shape[1:]))\n",
    "Resnet50_model.add(Dense(133, activation='softmax'))\n",
    "\n",
    "Resnet50_model.summary()"
   ]
  },
  {
   "cell_type": "markdown",
   "metadata": {
    "deletable": true,
    "editable": true
   },
   "source": [
    "### (IMPLEMENTATION) Compile the Model"
   ]
  },
  {
   "cell_type": "code",
   "execution_count": 47,
   "metadata": {
    "collapsed": true,
    "deletable": true,
    "editable": true
   },
   "outputs": [],
   "source": [
    "Resnet50_model.compile(loss='categorical_crossentropy', optimizer='adam', metrics=['accuracy'])"
   ]
  },
  {
   "cell_type": "markdown",
   "metadata": {
    "deletable": true,
    "editable": true
   },
   "source": [
    "### (IMPLEMENTATION) Train the Model\n",
    "\n",
    "Train your model in the code cell below.  Use model checkpointing to save the model that attains the best validation loss.  \n",
    "\n",
    "You are welcome to [augment the training data](https://blog.keras.io/building-powerful-image-classification-models-using-very-little-data.html), but this is not a requirement. "
   ]
  },
  {
   "cell_type": "code",
   "execution_count": 48,
   "metadata": {
    "collapsed": false,
    "deletable": true,
    "editable": true
   },
   "outputs": [
    {
     "name": "stdout",
     "output_type": "stream",
     "text": [
      "Train on 6680 samples, validate on 835 samples\n",
      "Epoch 1/25\n",
      "6144/6680 [==========================>...] - ETA: 0s - loss: 2.2541 - acc: 0.5060Epoch 00000: val_loss improved from inf to 0.95965, saving model to saved_models/weights.best.RESNET50.hdf5\n",
      "6680/6680 [==============================] - 0s - loss: 2.1525 - acc: 0.5254 - val_loss: 0.9596 - val_acc: 0.7413\n",
      "Epoch 2/25\n",
      "6400/6680 [===========================>..] - ETA: 0s - loss: 0.5392 - acc: 0.8714Epoch 00001: val_loss improved from 0.95965 to 0.73236, saving model to saved_models/weights.best.RESNET50.hdf5\n",
      "6680/6680 [==============================] - 0s - loss: 0.5366 - acc: 0.8716 - val_loss: 0.7324 - val_acc: 0.7784\n",
      "Epoch 3/25\n",
      "6144/6680 [==========================>...] - ETA: 0s - loss: 0.2974 - acc: 0.9419Epoch 00002: val_loss improved from 0.73236 to 0.63550, saving model to saved_models/weights.best.RESNET50.hdf5\n",
      "6680/6680 [==============================] - 0s - loss: 0.2942 - acc: 0.9439 - val_loss: 0.6355 - val_acc: 0.8180\n",
      "Epoch 4/25\n",
      "6336/6680 [===========================>..] - ETA: 0s - loss: 0.1865 - acc: 0.9744Epoch 00003: val_loss improved from 0.63550 to 0.59950, saving model to saved_models/weights.best.RESNET50.hdf5\n",
      "6680/6680 [==============================] - 0s - loss: 0.1848 - acc: 0.9747 - val_loss: 0.5995 - val_acc: 0.8180\n",
      "Epoch 5/25\n",
      "6336/6680 [===========================>..] - ETA: 0s - loss: 0.1244 - acc: 0.9899Epoch 00004: val_loss improved from 0.59950 to 0.56353, saving model to saved_models/weights.best.RESNET50.hdf5\n",
      "6680/6680 [==============================] - 0s - loss: 0.1234 - acc: 0.9898 - val_loss: 0.5635 - val_acc: 0.8240\n",
      "Epoch 6/25\n",
      "6336/6680 [===========================>..] - ETA: 0s - loss: 0.0884 - acc: 0.9954Epoch 00005: val_loss improved from 0.56353 to 0.56339, saving model to saved_models/weights.best.RESNET50.hdf5\n",
      "6680/6680 [==============================] - 0s - loss: 0.0889 - acc: 0.9954 - val_loss: 0.5634 - val_acc: 0.8347\n",
      "Epoch 7/25\n",
      "6144/6680 [==========================>...] - ETA: 0s - loss: 0.0659 - acc: 0.9976Epoch 00006: val_loss improved from 0.56339 to 0.55088, saving model to saved_models/weights.best.RESNET50.hdf5\n",
      "6680/6680 [==============================] - 0s - loss: 0.0662 - acc: 0.9972 - val_loss: 0.5509 - val_acc: 0.8431\n",
      "Epoch 8/25\n",
      "6336/6680 [===========================>..] - ETA: 0s - loss: 0.0536 - acc: 0.9979Epoch 00007: val_loss improved from 0.55088 to 0.53609, saving model to saved_models/weights.best.RESNET50.hdf5\n",
      "6680/6680 [==============================] - 0s - loss: 0.0540 - acc: 0.9981 - val_loss: 0.5361 - val_acc: 0.8359\n",
      "Epoch 9/25\n",
      "6336/6680 [===========================>..] - ETA: 0s - loss: 0.0428 - acc: 0.9986Epoch 00008: val_loss did not improve\n",
      "6680/6680 [==============================] - 0s - loss: 0.0431 - acc: 0.9985 - val_loss: 0.5390 - val_acc: 0.8467\n",
      "Epoch 10/25\n",
      "6144/6680 [==========================>...] - ETA: 0s - loss: 0.0373 - acc: 0.9984Epoch 00009: val_loss did not improve\n",
      "6680/6680 [==============================] - 0s - loss: 0.0374 - acc: 0.9985 - val_loss: 0.5420 - val_acc: 0.8443\n",
      "Epoch 11/25\n",
      "6208/6680 [==========================>...] - ETA: 0s - loss: 0.0317 - acc: 0.9989Epoch 00010: val_loss improved from 0.53609 to 0.52549, saving model to saved_models/weights.best.RESNET50.hdf5\n",
      "6680/6680 [==============================] - 0s - loss: 0.0314 - acc: 0.9990 - val_loss: 0.5255 - val_acc: 0.8503\n",
      "Epoch 12/25\n",
      "6336/6680 [===========================>..] - ETA: 0s - loss: 0.0277 - acc: 0.9989Epoch 00011: val_loss did not improve\n",
      "6680/6680 [==============================] - 0s - loss: 0.0275 - acc: 0.9990 - val_loss: 0.5461 - val_acc: 0.8371\n",
      "Epoch 13/25\n",
      "6336/6680 [===========================>..] - ETA: 0s - loss: 0.0257 - acc: 0.9986Epoch 00012: val_loss did not improve\n",
      "6680/6680 [==============================] - 0s - loss: 0.0256 - acc: 0.9987 - val_loss: 0.5409 - val_acc: 0.8407\n",
      "Epoch 14/25\n",
      "6144/6680 [==========================>...] - ETA: 0s - loss: 0.0220 - acc: 0.9984Epoch 00013: val_loss did not improve\n",
      "6680/6680 [==============================] - 0s - loss: 0.0220 - acc: 0.9984 - val_loss: 0.5552 - val_acc: 0.8395\n",
      "Epoch 15/25\n",
      "6272/6680 [===========================>..] - ETA: 0s - loss: 0.0207 - acc: 0.9984Epoch 00014: val_loss did not improve\n",
      "6680/6680 [==============================] - 0s - loss: 0.0206 - acc: 0.9984 - val_loss: 0.5475 - val_acc: 0.8515\n",
      "Epoch 16/25\n",
      "6400/6680 [===========================>..] - ETA: 0s - loss: 0.0183 - acc: 0.9986Epoch 00015: val_loss did not improve\n",
      "6680/6680 [==============================] - 0s - loss: 0.0183 - acc: 0.9987 - val_loss: 0.5568 - val_acc: 0.8443\n",
      "Epoch 17/25\n",
      "6272/6680 [===========================>..] - ETA: 0s - loss: 0.0182 - acc: 0.9989Epoch 00016: val_loss did not improve\n",
      "6680/6680 [==============================] - 0s - loss: 0.0179 - acc: 0.9990 - val_loss: 0.5341 - val_acc: 0.8539\n",
      "Epoch 18/25\n",
      "6400/6680 [===========================>..] - ETA: 0s - loss: 0.0157 - acc: 0.9983Epoch 00017: val_loss did not improve\n",
      "6680/6680 [==============================] - 0s - loss: 0.0156 - acc: 0.9984 - val_loss: 0.5459 - val_acc: 0.8431\n",
      "Epoch 19/25\n",
      "6400/6680 [===========================>..] - ETA: 0s - loss: 0.0141 - acc: 0.9984Epoch 00018: val_loss did not improve\n",
      "6680/6680 [==============================] - 0s - loss: 0.0143 - acc: 0.9984 - val_loss: 0.5427 - val_acc: 0.8491\n",
      "Epoch 20/25\n",
      "6144/6680 [==========================>...] - ETA: 0s - loss: 0.0141 - acc: 0.9989Epoch 00019: val_loss did not improve\n",
      "6680/6680 [==============================] - 0s - loss: 0.0142 - acc: 0.9988 - val_loss: 0.5589 - val_acc: 0.8551\n",
      "Epoch 21/25\n",
      "6272/6680 [===========================>..] - ETA: 0s - loss: 0.0119 - acc: 0.9989- ETA: 0s - loss: 0.0126 - acc:Epoch 00020: val_loss did not improve\n",
      "6680/6680 [==============================] - 0s - loss: 0.0132 - acc: 0.9984 - val_loss: 0.5603 - val_acc: 0.8395\n",
      "Epoch 22/25\n",
      "6336/6680 [===========================>..] - ETA: 0s - loss: 0.0131 - acc: 0.9986Epoch 00021: val_loss did not improve\n",
      "6680/6680 [==============================] - 0s - loss: 0.0129 - acc: 0.9987 - val_loss: 0.5531 - val_acc: 0.8467\n",
      "Epoch 23/25\n",
      "6400/6680 [===========================>..] - ETA: 0s - loss: 0.0113 - acc: 0.9989Epoch 00022: val_loss did not improve\n",
      "6680/6680 [==============================] - 0s - loss: 0.0112 - acc: 0.9990 - val_loss: 0.5621 - val_acc: 0.8431\n",
      "Epoch 24/25\n",
      "6144/6680 [==========================>...] - ETA: 0s - loss: 0.0101 - acc: 0.9987Epoch 00023: val_loss did not improve\n",
      "6680/6680 [==============================] - 0s - loss: 0.0100 - acc: 0.9988 - val_loss: 0.5695 - val_acc: 0.8527\n",
      "Epoch 25/25\n",
      "6272/6680 [===========================>..] - ETA: 0s - loss: 0.0107 - acc: 0.9987Epoch 00024: val_loss did not improve\n",
      "6680/6680 [==============================] - 0s - loss: 0.0105 - acc: 0.9988 - val_loss: 0.5561 - val_acc: 0.8455\n"
     ]
    },
    {
     "data": {
      "text/plain": [
       "<keras.callbacks.History at 0x7fdd3e4a0e10>"
      ]
     },
     "execution_count": 48,
     "metadata": {},
     "output_type": "execute_result"
    }
   ],
   "source": [
    "checkpointer = ModelCheckpoint(filepath='saved_models/weights.best.RESNET50.hdf5', \n",
    "                               verbose=1, save_best_only=True)\n",
    "epochtimer = EpochTimer()\n",
    "\n",
    "hist = Resnet50_model.fit(train_resnet50, train_targets, \n",
    "              validation_data=(valid_resnet50, valid_targets),\n",
    "              epochs=20, batch_size=64, callbacks=[checkpointer, epochtimer], verbose=1)\n",
    "\n",
    "show_history_graph(hist)"
   ]
  },
  {
   "cell_type": "markdown",
   "metadata": {
    "deletable": true,
    "editable": true
   },
   "source": [
    "### (IMPLEMENTATION) Load the Model with the Best Validation Loss"
   ]
  },
  {
   "cell_type": "code",
   "execution_count": 49,
   "metadata": {
    "collapsed": true,
    "deletable": true,
    "editable": true
   },
   "outputs": [],
   "source": [
    "Resnet50_model.load_weights('saved_models/weights.best.RESNET50.hdf5')"
   ]
  },
  {
   "cell_type": "markdown",
   "metadata": {
    "deletable": true,
    "editable": true
   },
   "source": [
    "### (IMPLEMENTATION) Test the Model\n",
    "\n",
    "Try out your model on the test dataset of dog images. Ensure that your test accuracy is greater than 60%."
   ]
  },
  {
   "cell_type": "code",
   "execution_count": 50,
   "metadata": {
    "collapsed": false,
    "deletable": true,
    "editable": true
   },
   "outputs": [
    {
     "name": "stdout",
     "output_type": "stream",
     "text": [
      "Test accuracy: 84.6890%\n"
     ]
    }
   ],
   "source": [
    "# get index of predicted dog breed for each image in test set\n",
    "Resnet50_predictions = [np.argmax(Resnet50_model.predict(np.expand_dims(feature, axis=0))) for feature in test_resnet50]\n",
    "\n",
    "# report test accuracy\n",
    "test_accuracy = 100*np.sum(np.array(Resnet50_predictions)==np.argmax(test_targets, axis=1))/len(Resnet50_predictions)\n",
    "print('Test accuracy: %.4f%%' % test_accuracy)"
   ]
  },
  {
   "cell_type": "code",
   "execution_count": null,
   "metadata": {
    "collapsed": true
   },
   "outputs": [],
   "source": [
    "# Display some of the result images with correct or incorrect classification\n",
    "fig = plt.figure(figsize=(20, 12))\n",
    "for i, idx in enumerate(np.random.choice(test_tensors.shape[0], size=32, replace=False)):\n",
    "    ax = fig.add_subplot(4, 8, i + 1, xticks=[], yticks=[])\n",
    "    ax.imshow(np.squeeze(test_tensors[idx]))\n",
    "    true_idx = np.argmax(test_targets[idx])\n",
    "    pred_idx = predictions[idx]\n",
    "    ax.set_title(\"{}\\n({})\".format(dog_names[pred_idx], dog_names[true_idx]),\n",
    "                                  color=(\"green\" if pred_idx == true_idx else \"red\"))"
   ]
  },
  {
   "cell_type": "markdown",
   "metadata": {
    "deletable": true,
    "editable": true
   },
   "source": [
    "### (IMPLEMENTATION) Predict Dog Breed with the Model\n",
    "\n",
    "Write a function that takes an image path as input and returns the dog breed (`Affenpinscher`, `Afghan_hound`, etc) that is predicted by your model.  \n",
    "\n",
    "Similar to the analogous function in Step 5, your function should have three steps:\n",
    "1. Extract the bottleneck features corresponding to the chosen CNN model.\n",
    "2. Supply the bottleneck features as input to the model to return the predicted vector.  Note that the argmax of this prediction vector gives the index of the predicted dog breed.\n",
    "3. Use the `dog_names` array defined in Step 0 of this notebook to return the corresponding breed.\n",
    "\n",
    "The functions to extract the bottleneck features can be found in `extract_bottleneck_features.py`, and they have been imported in an earlier code cell.  To obtain the bottleneck features corresponding to your chosen CNN architecture, you need to use the function\n",
    "\n",
    "    extract_{network}\n",
    "    \n",
    "where `{network}`, in the above filename, should be one of `VGG19`, `Resnet50`, `InceptionV3`, or `Xception`."
   ]
  },
  {
   "cell_type": "code",
   "execution_count": 51,
   "metadata": {
    "collapsed": true,
    "deletable": true,
    "editable": true
   },
   "outputs": [],
   "source": [
    "### Function that takes a path to an image as input\n",
    "### and returns the dog breed that is predicted by the model.\n",
    "from extract_bottleneck_features import *\n",
    "\n",
    "def Resnet50_predict_breed(img_path):\n",
    "    # extract bottleneck features\n",
    "    bottleneck_feature = extract_Resnet50(path_to_tensor(img_path))\n",
    "    # obtain predicted vector\n",
    "    predicted_vector = Resnet50_model.predict(bottleneck_feature)\n",
    "    # return dog breed that is predicted by the model\n",
    "    return dog_names[np.argmax(predicted_vector)]"
   ]
  },
  {
   "cell_type": "markdown",
   "metadata": {
    "deletable": true,
    "editable": true
   },
   "source": [
    "---\n",
    "<a id='step6'></a>\n",
    "## Step 6: Write your Algorithm\n",
    "\n",
    "Write an algorithm that accepts a file path to an image and first determines whether the image contains a human, dog, or neither.  Then,\n",
    "- if a __dog__ is detected in the image, return the predicted breed.\n",
    "- if a __human__ is detected in the image, return the resembling dog breed.\n",
    "- if __neither__ is detected in the image, provide output that indicates an error.\n",
    "\n",
    "You are welcome to write your own functions for detecting humans and dogs in images, but feel free to use the `face_detector` and `dog_detector` functions developed above.  You are __required__ to use your CNN from Step 5 to predict dog breed.  \n",
    "\n",
    "Some sample output for our algorithm is provided below, but feel free to design your own user experience!\n",
    "\n",
    "![Sample Human Output](images/sample_human_output.png)\n",
    "\n",
    "\n",
    "### (IMPLEMENTATION) Write your Algorithm"
   ]
  },
  {
   "cell_type": "code",
   "execution_count": 4,
   "metadata": {
    "collapsed": true
   },
   "outputs": [],
   "source": [
    "import os\n",
    "import fnmatch\n",
    "\n",
    "# Helper function to be able to display a matching image for the humans so that we know immediately \n",
    "# how the dog breed looks like, we search for the first image in the training data with the correct name.\n",
    "def find_dog_img(pattern, path):\n",
    "    for root, dirs, files in os.walk(path):\n",
    "        for name in files:\n",
    "            if fnmatch.fnmatch(name, pattern):\n",
    "                return os.path.join(root, name)\n"
   ]
  },
  {
   "cell_type": "code",
   "execution_count": 12,
   "metadata": {
    "collapsed": false
   },
   "outputs": [
    {
     "name": "stdout",
     "output_type": "stream",
     "text": [
      "dogImages/train/112.Nova_scotia_duck_tolling_retriever/Nova_scotia_duck_tolling_retriever_07278.jpg\n"
     ]
    },
    {
     "data": {
      "image/png": "[encoded data removed]",
      "text/plain": [
       "<matplotlib.figure.Figure at 0x10f0f5dd8>"
      ]
     },
     "metadata": {},
     "output_type": "display_data"
    }
   ],
   "source": [
    "sample_dog_img = find_dog_img('Nova_scotia_duck_tolling_retriever*', 'dogImages/train')\n",
    "print(sample_dog_img)\n",
    "show_image(sample_dog_img)"
   ]
  },
  {
   "cell_type": "code",
   "execution_count": 3,
   "metadata": {
    "collapsed": true
   },
   "outputs": [],
   "source": [
    "import matplotlib.image as mpimg\n",
    "\n",
    "def show_image(img_path):\n",
    "    img = mpimg.imread(img_path)\n",
    "    fig = plt.figure()\n",
    "    plt.subplot()\n",
    "    plt.imshow(img)\n",
    "    plt.axis('off')\n",
    "    plt.plot()"
   ]
  },
  {
   "cell_type": "code",
   "execution_count": 52,
   "metadata": {
    "collapsed": true,
    "deletable": true,
    "editable": true
   },
   "outputs": [],
   "source": [
    "def dog_breed_or_similarity(img_path):\n",
    "    show_image(img_path)\n",
    "    if dog_detector(img_path):\n",
    "        print(\"Such a nice dog, I would think you are a ...\")\n",
    "        result = Resnet50_predict_breed(img_path)\n",
    "        print(result)\n",
    "        sample_dog_img = find_dog_img(result + '*', 'dogImages/train')\n",
    "        show_image(sample_dog_img)\n",
    "        return result\n",
    "    if face_detector(img_path):\n",
    "        print(\"Hello Human, you look like a...\")\n",
    "        result = Resnet50_predict_breed(img_path)\n",
    "        print(result)\n",
    "        sample_dog_img = find_dog_img(result + '*', 'dogImages/train')\n",
    "        show_image(sample_dog_img)\n",
    "        return result\n",
    "    print(\"Neither dog or human. Make more effort!\")\n",
    "    return \"Error\""
   ]
  },
  {
   "cell_type": "markdown",
   "metadata": {
    "deletable": true,
    "editable": true
   },
   "source": [
    "---\n",
    "<a id='step7'></a>\n",
    "## Step 7: Test Your Algorithm\n",
    "\n",
    "In this section, you will take your new algorithm for a spin!  What kind of dog does the algorithm think that __you__ look like?  If you have a dog, does it predict your dog's breed accurately?  If you have a cat, does it mistakenly think that your cat is a dog?\n",
    "\n",
    "### (IMPLEMENTATION) Test Your Algorithm on Sample Images!\n",
    "\n",
    "Test your algorithm at least six images on your computer.  Feel free to use any images you like.  Use at least two human and two dog images.  \n",
    "\n",
    "__Question 6:__ Is the output better than you expected :) ?  Or worse :( ?  Provide at least three possible points of improvement for your algorithm.\n",
    "\n",
    "__Answer:__ As this week is election in Germany, I took pictures from the major German politicians and ran them through this algorithm. Additionally, I took some human samples from the lfw folder, some private pictures and the pictures of dogs in the images directory and also the remaining images in this folder (network architecture).\n",
    "Overall, this was a really fun experience and the results are quite convincing for such a small project.\n",
    "\n",
    "The following points of improvement could be done / have been done:\n",
    "- Use data augmentation to generate more sample data as the dataset is quite small. Initially, I thought this could be easily done with the method learned in class, however, the bottleneck features are not images and so another architecture has to be used. Will be explored further. Results from other students show that the accuracy gain might not be too big.\n",
    "- Use a more complex model at the end of the ResNet: See section 8.\n",
    "- Check out another model. Reports on Slack mention that Inception achieves higher performance. As I have just read the ResNet paper, I wanted to use this one for this task. See section 8.\n",
    "- Additionally, the human detection should be improved. One picture of a human was not classified correctly.\n",
    "- It would be nice for the output of the algorithm to show the input image and a sample of the matching dog breed. Done."
   ]
  },
  {
   "cell_type": "code",
   "execution_count": 67,
   "metadata": {
    "collapsed": false,
    "deletable": true,
    "editable": true
   },
   "outputs": [
    {
     "name": "stdout",
     "output_type": "stream",
     "text": [
      "Working on file...  /home/aind2/AIND-Dog/images/Ursula_von_der_Leyen.jpg\n",
      "Hello Human, you look like a...\n",
      "Nova_scotia_duck_tolling_retriever\n",
      "Working on file...  /home/aind2/AIND-Dog/images/Andrea_Bocelli.jpg\n",
      "Hello Human, you look like a...\n",
      "American_water_spaniel\n",
      "Working on file...  /home/aind2/AIND-Dog/images/Angela_Merkel.jpg\n",
      "Hello Human, you look like a...\n",
      "Dachshund\n",
      "Working on file...  /home/aind2/AIND-Dog/images/feli4.png\n",
      "Hello Human, you look like a...\n",
      "Norwich_terrier\n",
      "Working on file...  /home/aind2/AIND-Dog/images/Sigmar_Gabriel.jpg\n",
      "Hello Human, you look like a...\n",
      "American_foxhound\n",
      "Working on file...  /home/aind2/AIND-Dog/images/Charlie_Sheen.jpg\n",
      "Hello Human, you look like a...\n",
      "American_water_spaniel\n",
      "Working on file...  /home/aind2/AIND-Dog/images/Curly-coated_retriever_03896.jpg\n",
      "Such a nice dog, I would think you are a ...\n",
      "Curly-coated_retriever\n",
      "Working on file...  /home/aind2/AIND-Dog/images/carsten.png\n",
      "Hello Human, you look like a...\n",
      "Xoloitzcuintli\n",
      "Working on file...  /home/aind2/AIND-Dog/images/Anna_Kournikova.jpg\n",
      "Hello Human, you look like a...\n",
      "Nova_scotia_duck_tolling_retriever\n",
      "Working on file...  /home/aind2/AIND-Dog/images/Anna_Nicole_Smith.jpg\n",
      "Hello Human, you look like a...\n",
      "Cavalier_king_charles_spaniel\n",
      "Working on file...  /home/aind2/AIND-Dog/images/Labrador_retriever_06455.jpg\n",
      "Such a nice dog, I would think you are a ...\n",
      "Labrador_retriever\n",
      "Working on file...  /home/aind2/AIND-Dog/images/Labrador_retriever_06449.jpg\n",
      "Such a nice dog, I would think you are a ...\n",
      "Labrador_retriever\n",
      "Working on file...  /home/aind2/AIND-Dog/images/sample_cnn.png\n",
      "Neither dog or human. Make more effort!\n",
      "Working on file...  /home/aind2/AIND-Dog/images/sample_human_output.png\n",
      "Hello Human, you look like a...\n",
      "Norwegian_lundehund\n",
      "Working on file...  /home/aind2/AIND-Dog/images/sample_dog_output.png\n",
      "Neither dog or human. Make more effort!\n",
      "Working on file...  /home/aind2/AIND-Dog/images/Welsh_springer_spaniel_08203.jpg\n",
      "Such a nice dog, I would think you are a ...\n",
      "Welsh_springer_spaniel\n",
      "Working on file...  /home/aind2/AIND-Dog/images/Cem_Oezdemir.jpg\n",
      "Hello Human, you look like a...\n",
      "English_springer_spaniel\n",
      "Working on file...  /home/aind2/AIND-Dog/images/feli3.png\n",
      "Hello Human, you look like a...\n",
      "Chihuahua\n",
      "Working on file...  /home/aind2/AIND-Dog/images/feli1.png\n",
      "Hello Human, you look like a...\n",
      "Norwich_terrier\n",
      "Working on file...  /home/aind2/AIND-Dog/images/tanja.png\n",
      "Hello Human, you look like a...\n",
      "Chihuahua\n",
      "Working on file...  /home/aind2/AIND-Dog/images/Labrador_retriever_06457.jpg\n",
      "Such a nice dog, I would think you are a ...\n",
      "Labrador_retriever\n",
      "Working on file...  /home/aind2/AIND-Dog/images/feli2.png\n",
      "Hello Human, you look like a...\n",
      "Norwich_terrier\n",
      "Working on file...  /home/aind2/AIND-Dog/images/lucia.png\n",
      "Neither dog or human. Make more effort!\n",
      "Working on file...  /home/aind2/AIND-Dog/images/American_water_spaniel_00648.jpg\n",
      "Such a nice dog, I would think you are a ...\n",
      "American_water_spaniel\n",
      "Working on file...  /home/aind2/AIND-Dog/images/Brittany_02625.jpg\n",
      "Such a nice dog, I would think you are a ...\n",
      "Brittany\n",
      "Working on file...  /home/aind2/AIND-Dog/images/Martin-Schulz.jpg\n",
      "Hello Human, you look like a...\n",
      "French_bulldog\n"
     ]
    }
   ],
   "source": [
    "import os\n",
    "\n",
    "input_directory = \"/home/aind2/AIND-Dog/images\"\n",
    "list_of_files = os.listdir(input_directory)\n",
    "for file_name in list_of_files:\n",
    "    img_file = input_directory + '/' + file_name\n",
    "    print(\"Working on file... \", img_file)\n",
    "    show_image(img_file)\n",
    "    dog_breed_or_similarity(img_file)\n",
    "    print(\"-------------------------\")"
   ]
  },
  {
   "cell_type": "markdown",
   "metadata": {
    "collapsed": true,
    "deletable": true,
    "editable": true
   },
   "source": [
    "### Step 8: Extensions\n",
    "\n",
    "Evaluate two other models: Inception and Xception and play around with the layers at the end.\n"
   ]
  },
  {
   "cell_type": "code",
   "execution_count": 53,
   "metadata": {
    "collapsed": false,
    "deletable": true,
    "editable": true
   },
   "outputs": [
    {
     "name": "stdout",
     "output_type": "stream",
     "text": [
      "_________________________________________________________________\n",
      "Layer (type)                 Output Shape              Param #   \n",
      "=================================================================\n",
      "global_average_pooling2d_8 ( (None, 2048)              0         \n",
      "_________________________________________________________________\n",
      "dense_25 (Dense)             (None, 133)               272517    \n",
      "=================================================================\n",
      "Total params: 272,517\n",
      "Trainable params: 272,517\n",
      "Non-trainable params: 0\n",
      "_________________________________________________________________\n"
     ]
    }
   ],
   "source": [
    "from keras.layers import Conv2D, MaxPooling2D, GlobalAveragePooling2D\n",
    "from keras.layers import Dropout, Flatten, Dense\n",
    "from keras.models import Sequential\n",
    "\n",
    "# Build Inception model\n",
    "inception_bottleneck_features = np.load('bottleneck_features/DogInceptionV3Data.npz')\n",
    "train_inception = inception_bottleneck_features['train']\n",
    "valid_inception = inception_bottleneck_features['valid']\n",
    "test_inception = inception_bottleneck_features['test']\n",
    "\n",
    "Inception_model = Sequential()\n",
    "Inception_model.add(GlobalAveragePooling2D(input_shape=train_inception.shape[1:]))\n",
    "#Inception_model.add(Dense(64, activation='relu'))\n",
    "#Inception_model.add(Dropout(0.3))\n",
    "\n",
    "# Check out again...\n",
    "#Inception_model.add(Flatten(input_shape=train_data.shape[1:]))\n",
    "#Inception_model.add(Dense(256, activation='relu'))\n",
    "#Inception_model.add(Dropout(0.5))\n",
    "\n",
    "Inception_model.add(Dense(133, activation='softmax'))\n",
    "\n",
    "Inception_model.summary()\n",
    "\n",
    "Inception_model.compile(loss='categorical_crossentropy', optimizer='adam', metrics=['accuracy'])\n"
   ]
  },
  {
   "cell_type": "code",
   "execution_count": 55,
   "metadata": {
    "collapsed": false,
    "deletable": true,
    "editable": true
   },
   "outputs": [
    {
     "name": "stdout",
     "output_type": "stream",
     "text": [
      "Train on 6680 samples, validate on 835 samples\n",
      "Epoch 1/25\n"
     ]
    },
    {
     "ename": "FailedPreconditionError",
     "evalue": "Attempting to use uninitialized value dense_25/kernel\n\t [[Node: dense_25/kernel/read = Identity[T=DT_FLOAT, _class=[\"loc:@dense_25/kernel\"], _device=\"/job:localhost/replica:0/task:0/gpu:0\"](dense_25/kernel)]]\n\t [[Node: mul_151/_2015 = _Recv[client_terminated=false, recv_device=\"/job:localhost/replica:0/task:0/cpu:0\", send_device=\"/job:localhost/replica:0/task:0/gpu:0\", send_device_incarnation=1, tensor_name=\"edge_6_mul_151\", tensor_type=DT_FLOAT, _device=\"/job:localhost/replica:0/task:0/cpu:0\"]()]]\n\nCaused by op 'dense_25/kernel/read', defined at:\n  File \"/home/aind2/anaconda3/envs/aind2/lib/python3.6/runpy.py\", line 193, in _run_module_as_main\n    \"__main__\", mod_spec)\n  File \"/home/aind2/anaconda3/envs/aind2/lib/python3.6/runpy.py\", line 85, in _run_code\n    exec(code, run_globals)\n  File \"/home/aind2/anaconda3/envs/aind2/lib/python3.6/site-packages/ipykernel_launcher.py\", line 16, in <module>\n    app.launch_new_instance()\n  File \"/home/aind2/anaconda3/envs/aind2/lib/python3.6/site-packages/traitlets/config/application.py\", line 658, in launch_instance\n    app.start()\n  File \"/home/aind2/anaconda3/envs/aind2/lib/python3.6/site-packages/ipykernel/kernelapp.py\", line 477, in start\n    ioloop.IOLoop.instance().start()\n  File \"/home/aind2/anaconda3/envs/aind2/lib/python3.6/site-packages/zmq/eventloop/ioloop.py\", line 177, in start\n    super(ZMQIOLoop, self).start()\n  File \"/home/aind2/anaconda3/envs/aind2/lib/python3.6/site-packages/tornado/ioloop.py\", line 888, in start\n    handler_func(fd_obj, events)\n  File \"/home/aind2/anaconda3/envs/aind2/lib/python3.6/site-packages/tornado/stack_context.py\", line 277, in null_wrapper\n    return fn(*args, **kwargs)\n  File \"/home/aind2/anaconda3/envs/aind2/lib/python3.6/site-packages/zmq/eventloop/zmqstream.py\", line 440, in _handle_events\n    self._handle_recv()\n  File \"/home/aind2/anaconda3/envs/aind2/lib/python3.6/site-packages/zmq/eventloop/zmqstream.py\", line 472, in _handle_recv\n    self._run_callback(callback, msg)\n  File \"/home/aind2/anaconda3/envs/aind2/lib/python3.6/site-packages/zmq/eventloop/zmqstream.py\", line 414, in _run_callback\n    callback(*args, **kwargs)\n  File \"/home/aind2/anaconda3/envs/aind2/lib/python3.6/site-packages/tornado/stack_context.py\", line 277, in null_wrapper\n    return fn(*args, **kwargs)\n  File \"/home/aind2/anaconda3/envs/aind2/lib/python3.6/site-packages/ipykernel/kernelbase.py\", line 283, in dispatcher\n    return self.dispatch_shell(stream, msg)\n  File \"/home/aind2/anaconda3/envs/aind2/lib/python3.6/site-packages/ipykernel/kernelbase.py\", line 235, in dispatch_shell\n    handler(stream, idents, msg)\n  File \"/home/aind2/anaconda3/envs/aind2/lib/python3.6/site-packages/ipykernel/kernelbase.py\", line 399, in execute_request\n    user_expressions, allow_stdin)\n  File \"/home/aind2/anaconda3/envs/aind2/lib/python3.6/site-packages/ipykernel/ipkernel.py\", line 196, in do_execute\n    res = shell.run_cell(code, store_history=store_history, silent=silent)\n  File \"/home/aind2/anaconda3/envs/aind2/lib/python3.6/site-packages/ipykernel/zmqshell.py\", line 533, in run_cell\n    return super(ZMQInteractiveShell, self).run_cell(*args, **kwargs)\n  File \"/home/aind2/anaconda3/envs/aind2/lib/python3.6/site-packages/IPython/core/interactiveshell.py\", line 2683, in run_cell\n    interactivity=interactivity, compiler=compiler, result=result)\n  File \"/home/aind2/anaconda3/envs/aind2/lib/python3.6/site-packages/IPython/core/interactiveshell.py\", line 2787, in run_ast_nodes\n    if self.run_code(code, result):\n  File \"/home/aind2/anaconda3/envs/aind2/lib/python3.6/site-packages/IPython/core/interactiveshell.py\", line 2847, in run_code\n    exec(code_obj, self.user_global_ns, self.user_ns)\n  File \"<ipython-input-53-1904bf8afe70>\", line 15, in <module>\n    Inception_model.add(Dense(133, activation='softmax'))\n  File \"/home/aind2/anaconda3/envs/aind2/lib/python3.6/site-packages/keras/models.py\", line 466, in add\n    output_tensor = layer(self.outputs[0])\n  File \"/home/aind2/anaconda3/envs/aind2/lib/python3.6/site-packages/keras/engine/topology.py\", line 558, in __call__\n    self.build(input_shapes[0])\n  File \"/home/aind2/anaconda3/envs/aind2/lib/python3.6/site-packages/keras/layers/core.py\", line 827, in build\n    constraint=self.kernel_constraint)\n  File \"/home/aind2/anaconda3/envs/aind2/lib/python3.6/site-packages/keras/legacy/interfaces.py\", line 88, in wrapper\n    return func(*args, **kwargs)\n  File \"/home/aind2/anaconda3/envs/aind2/lib/python3.6/site-packages/keras/engine/topology.py\", line 391, in add_weight\n    weight = K.variable(initializer(shape), dtype=dtype, name=name)\n  File \"/home/aind2/anaconda3/envs/aind2/lib/python3.6/site-packages/keras/backend/tensorflow_backend.py\", line 317, in variable\n    v = tf.Variable(value, dtype=_convert_string_dtype(dtype), name=name)\n  File \"/home/aind2/anaconda3/envs/aind2/lib/python3.6/site-packages/tensorflow/python/ops/variables.py\", line 197, in __init__\n    expected_shape=expected_shape)\n  File \"/home/aind2/anaconda3/envs/aind2/lib/python3.6/site-packages/tensorflow/python/ops/variables.py\", line 316, in _init_from_args\n    self._snapshot = array_ops.identity(self._variable, name=\"read\")\n  File \"/home/aind2/anaconda3/envs/aind2/lib/python3.6/site-packages/tensorflow/python/ops/gen_array_ops.py\", line 1338, in identity\n    result = _op_def_lib.apply_op(\"Identity\", input=input, name=name)\n  File \"/home/aind2/anaconda3/envs/aind2/lib/python3.6/site-packages/tensorflow/python/framework/op_def_library.py\", line 768, in apply_op\n    op_def=op_def)\n  File \"/home/aind2/anaconda3/envs/aind2/lib/python3.6/site-packages/tensorflow/python/framework/ops.py\", line 2336, in create_op\n    original_op=self._default_original_op, op_def=op_def)\n  File \"/home/aind2/anaconda3/envs/aind2/lib/python3.6/site-packages/tensorflow/python/framework/ops.py\", line 1228, in __init__\n    self._traceback = _extract_stack()\n\nFailedPreconditionError (see above for traceback): Attempting to use uninitialized value dense_25/kernel\n\t [[Node: dense_25/kernel/read = Identity[T=DT_FLOAT, _class=[\"loc:@dense_25/kernel\"], _device=\"/job:localhost/replica:0/task:0/gpu:0\"](dense_25/kernel)]]\n\t [[Node: mul_151/_2015 = _Recv[client_terminated=false, recv_device=\"/job:localhost/replica:0/task:0/cpu:0\", send_device=\"/job:localhost/replica:0/task:0/gpu:0\", send_device_incarnation=1, tensor_name=\"edge_6_mul_151\", tensor_type=DT_FLOAT, _device=\"/job:localhost/replica:0/task:0/cpu:0\"]()]]\n",
     "output_type": "error",
     "traceback": [
      "\u001b[0;31m---------------------------------------------------------------------------\u001b[0m",
      "\u001b[0;31mFailedPreconditionError\u001b[0m                   Traceback (most recent call last)",
      "\u001b[0;32m/home/aind2/anaconda3/envs/aind2/lib/python3.6/site-packages/tensorflow/python/client/session.py\u001b[0m in \u001b[0;36m_do_call\u001b[0;34m(self, fn, *args)\u001b[0m\n\u001b[1;32m   1038\u001b[0m     \u001b[0;32mtry\u001b[0m\u001b[0;34m:\u001b[0m\u001b[0;34m\u001b[0m\u001b[0m\n\u001b[0;32m-> 1039\u001b[0;31m       \u001b[0;32mreturn\u001b[0m \u001b[0mfn\u001b[0m\u001b[0;34m(\u001b[0m\u001b[0;34m*\u001b[0m\u001b[0margs\u001b[0m\u001b[0;34m)\u001b[0m\u001b[0;34m\u001b[0m\u001b[0m\n\u001b[0m\u001b[1;32m   1040\u001b[0m     \u001b[0;32mexcept\u001b[0m \u001b[0merrors\u001b[0m\u001b[0;34m.\u001b[0m\u001b[0mOpError\u001b[0m \u001b[0;32mas\u001b[0m \u001b[0me\u001b[0m\u001b[0;34m:\u001b[0m\u001b[0;34m\u001b[0m\u001b[0m\n",
      "\u001b[0;32m/home/aind2/anaconda3/envs/aind2/lib/python3.6/site-packages/tensorflow/python/client/session.py\u001b[0m in \u001b[0;36m_run_fn\u001b[0;34m(session, feed_dict, fetch_list, target_list, options, run_metadata)\u001b[0m\n\u001b[1;32m   1020\u001b[0m                                  \u001b[0mfeed_dict\u001b[0m\u001b[0;34m,\u001b[0m \u001b[0mfetch_list\u001b[0m\u001b[0;34m,\u001b[0m \u001b[0mtarget_list\u001b[0m\u001b[0;34m,\u001b[0m\u001b[0;34m\u001b[0m\u001b[0m\n\u001b[0;32m-> 1021\u001b[0;31m                                  status, run_metadata)\n\u001b[0m\u001b[1;32m   1022\u001b[0m \u001b[0;34m\u001b[0m\u001b[0m\n",
      "\u001b[0;32m/home/aind2/anaconda3/envs/aind2/lib/python3.6/contextlib.py\u001b[0m in \u001b[0;36m__exit__\u001b[0;34m(self, type, value, traceback)\u001b[0m\n\u001b[1;32m     88\u001b[0m             \u001b[0;32mtry\u001b[0m\u001b[0;34m:\u001b[0m\u001b[0;34m\u001b[0m\u001b[0m\n\u001b[0;32m---> 89\u001b[0;31m                 \u001b[0mnext\u001b[0m\u001b[0;34m(\u001b[0m\u001b[0mself\u001b[0m\u001b[0;34m.\u001b[0m\u001b[0mgen\u001b[0m\u001b[0;34m)\u001b[0m\u001b[0;34m\u001b[0m\u001b[0m\n\u001b[0m\u001b[1;32m     90\u001b[0m             \u001b[0;32mexcept\u001b[0m \u001b[0mStopIteration\u001b[0m\u001b[0;34m:\u001b[0m\u001b[0;34m\u001b[0m\u001b[0m\n",
      "\u001b[0;32m/home/aind2/anaconda3/envs/aind2/lib/python3.6/site-packages/tensorflow/python/framework/errors_impl.py\u001b[0m in \u001b[0;36mraise_exception_on_not_ok_status\u001b[0;34m()\u001b[0m\n\u001b[1;32m    465\u001b[0m           \u001b[0mcompat\u001b[0m\u001b[0;34m.\u001b[0m\u001b[0mas_text\u001b[0m\u001b[0;34m(\u001b[0m\u001b[0mpywrap_tensorflow\u001b[0m\u001b[0;34m.\u001b[0m\u001b[0mTF_Message\u001b[0m\u001b[0;34m(\u001b[0m\u001b[0mstatus\u001b[0m\u001b[0;34m)\u001b[0m\u001b[0;34m)\u001b[0m\u001b[0;34m,\u001b[0m\u001b[0;34m\u001b[0m\u001b[0m\n\u001b[0;32m--> 466\u001b[0;31m           pywrap_tensorflow.TF_GetCode(status))\n\u001b[0m\u001b[1;32m    467\u001b[0m   \u001b[0;32mfinally\u001b[0m\u001b[0;34m:\u001b[0m\u001b[0;34m\u001b[0m\u001b[0m\n",
      "\u001b[0;31mFailedPreconditionError\u001b[0m: Attempting to use uninitialized value dense_25/kernel\n\t [[Node: dense_25/kernel/read = Identity[T=DT_FLOAT, _class=[\"loc:@dense_25/kernel\"], _device=\"/job:localhost/replica:0/task:0/gpu:0\"](dense_25/kernel)]]\n\t [[Node: mul_151/_2015 = _Recv[client_terminated=false, recv_device=\"/job:localhost/replica:0/task:0/cpu:0\", send_device=\"/job:localhost/replica:0/task:0/gpu:0\", send_device_incarnation=1, tensor_name=\"edge_6_mul_151\", tensor_type=DT_FLOAT, _device=\"/job:localhost/replica:0/task:0/cpu:0\"]()]]",
      "\nDuring handling of the above exception, another exception occurred:\n",
      "\u001b[0;31mFailedPreconditionError\u001b[0m                   Traceback (most recent call last)",
      "\u001b[0;32m<ipython-input-55-19a4cf741521>\u001b[0m in \u001b[0;36m<module>\u001b[0;34m()\u001b[0m\n\u001b[1;32m      6\u001b[0m Inception_model.fit(train_inception, train_targets, \n\u001b[1;32m      7\u001b[0m           \u001b[0mvalidation_data\u001b[0m\u001b[0;34m=\u001b[0m\u001b[0;34m(\u001b[0m\u001b[0mvalid_inception\u001b[0m\u001b[0;34m,\u001b[0m \u001b[0mvalid_targets\u001b[0m\u001b[0;34m)\u001b[0m\u001b[0;34m,\u001b[0m\u001b[0;34m\u001b[0m\u001b[0m\n\u001b[0;32m----> 8\u001b[0;31m           epochs=25, batch_size=32, callbacks=[checkpointer], verbose=1)\n\u001b[0m",
      "\u001b[0;32m/home/aind2/anaconda3/envs/aind2/lib/python3.6/site-packages/keras/models.py\u001b[0m in \u001b[0;36mfit\u001b[0;34m(self, x, y, batch_size, epochs, verbose, callbacks, validation_split, validation_data, shuffle, class_weight, sample_weight, initial_epoch, **kwargs)\u001b[0m\n\u001b[1;32m    854\u001b[0m                               \u001b[0mclass_weight\u001b[0m\u001b[0;34m=\u001b[0m\u001b[0mclass_weight\u001b[0m\u001b[0;34m,\u001b[0m\u001b[0;34m\u001b[0m\u001b[0m\n\u001b[1;32m    855\u001b[0m                               \u001b[0msample_weight\u001b[0m\u001b[0;34m=\u001b[0m\u001b[0msample_weight\u001b[0m\u001b[0;34m,\u001b[0m\u001b[0;34m\u001b[0m\u001b[0m\n\u001b[0;32m--> 856\u001b[0;31m                               initial_epoch=initial_epoch)\n\u001b[0m\u001b[1;32m    857\u001b[0m \u001b[0;34m\u001b[0m\u001b[0m\n\u001b[1;32m    858\u001b[0m     def evaluate(self, x, y, batch_size=32, verbose=1,\n",
      "\u001b[0;32m/home/aind2/anaconda3/envs/aind2/lib/python3.6/site-packages/keras/engine/training.py\u001b[0m in \u001b[0;36mfit\u001b[0;34m(self, x, y, batch_size, epochs, verbose, callbacks, validation_split, validation_data, shuffle, class_weight, sample_weight, initial_epoch, **kwargs)\u001b[0m\n\u001b[1;32m   1496\u001b[0m                               \u001b[0mval_f\u001b[0m\u001b[0;34m=\u001b[0m\u001b[0mval_f\u001b[0m\u001b[0;34m,\u001b[0m \u001b[0mval_ins\u001b[0m\u001b[0;34m=\u001b[0m\u001b[0mval_ins\u001b[0m\u001b[0;34m,\u001b[0m \u001b[0mshuffle\u001b[0m\u001b[0;34m=\u001b[0m\u001b[0mshuffle\u001b[0m\u001b[0;34m,\u001b[0m\u001b[0;34m\u001b[0m\u001b[0m\n\u001b[1;32m   1497\u001b[0m                               \u001b[0mcallback_metrics\u001b[0m\u001b[0;34m=\u001b[0m\u001b[0mcallback_metrics\u001b[0m\u001b[0;34m,\u001b[0m\u001b[0;34m\u001b[0m\u001b[0m\n\u001b[0;32m-> 1498\u001b[0;31m                               initial_epoch=initial_epoch)\n\u001b[0m\u001b[1;32m   1499\u001b[0m \u001b[0;34m\u001b[0m\u001b[0m\n\u001b[1;32m   1500\u001b[0m     \u001b[0;32mdef\u001b[0m \u001b[0mevaluate\u001b[0m\u001b[0;34m(\u001b[0m\u001b[0mself\u001b[0m\u001b[0;34m,\u001b[0m \u001b[0mx\u001b[0m\u001b[0;34m,\u001b[0m \u001b[0my\u001b[0m\u001b[0;34m,\u001b[0m \u001b[0mbatch_size\u001b[0m\u001b[0;34m=\u001b[0m\u001b[0;36m32\u001b[0m\u001b[0;34m,\u001b[0m \u001b[0mverbose\u001b[0m\u001b[0;34m=\u001b[0m\u001b[0;36m1\u001b[0m\u001b[0;34m,\u001b[0m \u001b[0msample_weight\u001b[0m\u001b[0;34m=\u001b[0m\u001b[0;32mNone\u001b[0m\u001b[0;34m)\u001b[0m\u001b[0;34m:\u001b[0m\u001b[0;34m\u001b[0m\u001b[0m\n",
      "\u001b[0;32m/home/aind2/anaconda3/envs/aind2/lib/python3.6/site-packages/keras/engine/training.py\u001b[0m in \u001b[0;36m_fit_loop\u001b[0;34m(self, f, ins, out_labels, batch_size, epochs, verbose, callbacks, val_f, val_ins, shuffle, callback_metrics, initial_epoch)\u001b[0m\n\u001b[1;32m   1150\u001b[0m                 \u001b[0mbatch_logs\u001b[0m\u001b[0;34m[\u001b[0m\u001b[0;34m'size'\u001b[0m\u001b[0;34m]\u001b[0m \u001b[0;34m=\u001b[0m \u001b[0mlen\u001b[0m\u001b[0;34m(\u001b[0m\u001b[0mbatch_ids\u001b[0m\u001b[0;34m)\u001b[0m\u001b[0;34m\u001b[0m\u001b[0m\n\u001b[1;32m   1151\u001b[0m                 \u001b[0mcallbacks\u001b[0m\u001b[0;34m.\u001b[0m\u001b[0mon_batch_begin\u001b[0m\u001b[0;34m(\u001b[0m\u001b[0mbatch_index\u001b[0m\u001b[0;34m,\u001b[0m \u001b[0mbatch_logs\u001b[0m\u001b[0;34m)\u001b[0m\u001b[0;34m\u001b[0m\u001b[0m\n\u001b[0;32m-> 1152\u001b[0;31m                 \u001b[0mouts\u001b[0m \u001b[0;34m=\u001b[0m \u001b[0mf\u001b[0m\u001b[0;34m(\u001b[0m\u001b[0mins_batch\u001b[0m\u001b[0;34m)\u001b[0m\u001b[0;34m\u001b[0m\u001b[0m\n\u001b[0m\u001b[1;32m   1153\u001b[0m                 \u001b[0;32mif\u001b[0m \u001b[0;32mnot\u001b[0m \u001b[0misinstance\u001b[0m\u001b[0;34m(\u001b[0m\u001b[0mouts\u001b[0m\u001b[0;34m,\u001b[0m \u001b[0mlist\u001b[0m\u001b[0;34m)\u001b[0m\u001b[0;34m:\u001b[0m\u001b[0;34m\u001b[0m\u001b[0m\n\u001b[1;32m   1154\u001b[0m                     \u001b[0mouts\u001b[0m \u001b[0;34m=\u001b[0m \u001b[0;34m[\u001b[0m\u001b[0mouts\u001b[0m\u001b[0;34m]\u001b[0m\u001b[0;34m\u001b[0m\u001b[0m\n",
      "\u001b[0;32m/home/aind2/anaconda3/envs/aind2/lib/python3.6/site-packages/keras/backend/tensorflow_backend.py\u001b[0m in \u001b[0;36m__call__\u001b[0;34m(self, inputs)\u001b[0m\n\u001b[1;32m   2227\u001b[0m         \u001b[0msession\u001b[0m \u001b[0;34m=\u001b[0m \u001b[0mget_session\u001b[0m\u001b[0;34m(\u001b[0m\u001b[0;34m)\u001b[0m\u001b[0;34m\u001b[0m\u001b[0m\n\u001b[1;32m   2228\u001b[0m         updated = session.run(self.outputs + [self.updates_op],\n\u001b[0;32m-> 2229\u001b[0;31m                               feed_dict=feed_dict)\n\u001b[0m\u001b[1;32m   2230\u001b[0m         \u001b[0;32mreturn\u001b[0m \u001b[0mupdated\u001b[0m\u001b[0;34m[\u001b[0m\u001b[0;34m:\u001b[0m\u001b[0mlen\u001b[0m\u001b[0;34m(\u001b[0m\u001b[0mself\u001b[0m\u001b[0;34m.\u001b[0m\u001b[0moutputs\u001b[0m\u001b[0;34m)\u001b[0m\u001b[0;34m]\u001b[0m\u001b[0;34m\u001b[0m\u001b[0m\n\u001b[1;32m   2231\u001b[0m \u001b[0;34m\u001b[0m\u001b[0m\n",
      "\u001b[0;32m/home/aind2/anaconda3/envs/aind2/lib/python3.6/site-packages/tensorflow/python/client/session.py\u001b[0m in \u001b[0;36mrun\u001b[0;34m(self, fetches, feed_dict, options, run_metadata)\u001b[0m\n\u001b[1;32m    776\u001b[0m     \u001b[0;32mtry\u001b[0m\u001b[0;34m:\u001b[0m\u001b[0;34m\u001b[0m\u001b[0m\n\u001b[1;32m    777\u001b[0m       result = self._run(None, fetches, feed_dict, options_ptr,\n\u001b[0;32m--> 778\u001b[0;31m                          run_metadata_ptr)\n\u001b[0m\u001b[1;32m    779\u001b[0m       \u001b[0;32mif\u001b[0m \u001b[0mrun_metadata\u001b[0m\u001b[0;34m:\u001b[0m\u001b[0;34m\u001b[0m\u001b[0m\n\u001b[1;32m    780\u001b[0m         \u001b[0mproto_data\u001b[0m \u001b[0;34m=\u001b[0m \u001b[0mtf_session\u001b[0m\u001b[0;34m.\u001b[0m\u001b[0mTF_GetBuffer\u001b[0m\u001b[0;34m(\u001b[0m\u001b[0mrun_metadata_ptr\u001b[0m\u001b[0;34m)\u001b[0m\u001b[0;34m\u001b[0m\u001b[0m\n",
      "\u001b[0;32m/home/aind2/anaconda3/envs/aind2/lib/python3.6/site-packages/tensorflow/python/client/session.py\u001b[0m in \u001b[0;36m_run\u001b[0;34m(self, handle, fetches, feed_dict, options, run_metadata)\u001b[0m\n\u001b[1;32m    980\u001b[0m     \u001b[0;32mif\u001b[0m \u001b[0mfinal_fetches\u001b[0m \u001b[0;32mor\u001b[0m \u001b[0mfinal_targets\u001b[0m\u001b[0;34m:\u001b[0m\u001b[0;34m\u001b[0m\u001b[0m\n\u001b[1;32m    981\u001b[0m       results = self._do_run(handle, final_targets, final_fetches,\n\u001b[0;32m--> 982\u001b[0;31m                              feed_dict_string, options, run_metadata)\n\u001b[0m\u001b[1;32m    983\u001b[0m     \u001b[0;32melse\u001b[0m\u001b[0;34m:\u001b[0m\u001b[0;34m\u001b[0m\u001b[0m\n\u001b[1;32m    984\u001b[0m       \u001b[0mresults\u001b[0m \u001b[0;34m=\u001b[0m \u001b[0;34m[\u001b[0m\u001b[0;34m]\u001b[0m\u001b[0;34m\u001b[0m\u001b[0m\n",
      "\u001b[0;32m/home/aind2/anaconda3/envs/aind2/lib/python3.6/site-packages/tensorflow/python/client/session.py\u001b[0m in \u001b[0;36m_do_run\u001b[0;34m(self, handle, target_list, fetch_list, feed_dict, options, run_metadata)\u001b[0m\n\u001b[1;32m   1030\u001b[0m     \u001b[0;32mif\u001b[0m \u001b[0mhandle\u001b[0m \u001b[0;32mis\u001b[0m \u001b[0;32mNone\u001b[0m\u001b[0;34m:\u001b[0m\u001b[0;34m\u001b[0m\u001b[0m\n\u001b[1;32m   1031\u001b[0m       return self._do_call(_run_fn, self._session, feed_dict, fetch_list,\n\u001b[0;32m-> 1032\u001b[0;31m                            target_list, options, run_metadata)\n\u001b[0m\u001b[1;32m   1033\u001b[0m     \u001b[0;32melse\u001b[0m\u001b[0;34m:\u001b[0m\u001b[0;34m\u001b[0m\u001b[0m\n\u001b[1;32m   1034\u001b[0m       return self._do_call(_prun_fn, self._session, handle, feed_dict,\n",
      "\u001b[0;32m/home/aind2/anaconda3/envs/aind2/lib/python3.6/site-packages/tensorflow/python/client/session.py\u001b[0m in \u001b[0;36m_do_call\u001b[0;34m(self, fn, *args)\u001b[0m\n\u001b[1;32m   1050\u001b[0m         \u001b[0;32mexcept\u001b[0m \u001b[0mKeyError\u001b[0m\u001b[0;34m:\u001b[0m\u001b[0;34m\u001b[0m\u001b[0m\n\u001b[1;32m   1051\u001b[0m           \u001b[0;32mpass\u001b[0m\u001b[0;34m\u001b[0m\u001b[0m\n\u001b[0;32m-> 1052\u001b[0;31m       \u001b[0;32mraise\u001b[0m \u001b[0mtype\u001b[0m\u001b[0;34m(\u001b[0m\u001b[0me\u001b[0m\u001b[0;34m)\u001b[0m\u001b[0;34m(\u001b[0m\u001b[0mnode_def\u001b[0m\u001b[0;34m,\u001b[0m \u001b[0mop\u001b[0m\u001b[0;34m,\u001b[0m \u001b[0mmessage\u001b[0m\u001b[0;34m)\u001b[0m\u001b[0;34m\u001b[0m\u001b[0m\n\u001b[0m\u001b[1;32m   1053\u001b[0m \u001b[0;34m\u001b[0m\u001b[0m\n\u001b[1;32m   1054\u001b[0m   \u001b[0;32mdef\u001b[0m \u001b[0m_extend_graph\u001b[0m\u001b[0;34m(\u001b[0m\u001b[0mself\u001b[0m\u001b[0;34m)\u001b[0m\u001b[0;34m:\u001b[0m\u001b[0;34m\u001b[0m\u001b[0m\n",
      "\u001b[0;31mFailedPreconditionError\u001b[0m: Attempting to use uninitialized value dense_25/kernel\n\t [[Node: dense_25/kernel/read = Identity[T=DT_FLOAT, _class=[\"loc:@dense_25/kernel\"], _device=\"/job:localhost/replica:0/task:0/gpu:0\"](dense_25/kernel)]]\n\t [[Node: mul_151/_2015 = _Recv[client_terminated=false, recv_device=\"/job:localhost/replica:0/task:0/cpu:0\", send_device=\"/job:localhost/replica:0/task:0/gpu:0\", send_device_incarnation=1, tensor_name=\"edge_6_mul_151\", tensor_type=DT_FLOAT, _device=\"/job:localhost/replica:0/task:0/cpu:0\"]()]]\n\nCaused by op 'dense_25/kernel/read', defined at:\n  File \"/home/aind2/anaconda3/envs/aind2/lib/python3.6/runpy.py\", line 193, in _run_module_as_main\n    \"__main__\", mod_spec)\n  File \"/home/aind2/anaconda3/envs/aind2/lib/python3.6/runpy.py\", line 85, in _run_code\n    exec(code, run_globals)\n  File \"/home/aind2/anaconda3/envs/aind2/lib/python3.6/site-packages/ipykernel_launcher.py\", line 16, in <module>\n    app.launch_new_instance()\n  File \"/home/aind2/anaconda3/envs/aind2/lib/python3.6/site-packages/traitlets/config/application.py\", line 658, in launch_instance\n    app.start()\n  File \"/home/aind2/anaconda3/envs/aind2/lib/python3.6/site-packages/ipykernel/kernelapp.py\", line 477, in start\n    ioloop.IOLoop.instance().start()\n  File \"/home/aind2/anaconda3/envs/aind2/lib/python3.6/site-packages/zmq/eventloop/ioloop.py\", line 177, in start\n    super(ZMQIOLoop, self).start()\n  File \"/home/aind2/anaconda3/envs/aind2/lib/python3.6/site-packages/tornado/ioloop.py\", line 888, in start\n    handler_func(fd_obj, events)\n  File \"/home/aind2/anaconda3/envs/aind2/lib/python3.6/site-packages/tornado/stack_context.py\", line 277, in null_wrapper\n    return fn(*args, **kwargs)\n  File \"/home/aind2/anaconda3/envs/aind2/lib/python3.6/site-packages/zmq/eventloop/zmqstream.py\", line 440, in _handle_events\n    self._handle_recv()\n  File \"/home/aind2/anaconda3/envs/aind2/lib/python3.6/site-packages/zmq/eventloop/zmqstream.py\", line 472, in _handle_recv\n    self._run_callback(callback, msg)\n  File \"/home/aind2/anaconda3/envs/aind2/lib/python3.6/site-packages/zmq/eventloop/zmqstream.py\", line 414, in _run_callback\n    callback(*args, **kwargs)\n  File \"/home/aind2/anaconda3/envs/aind2/lib/python3.6/site-packages/tornado/stack_context.py\", line 277, in null_wrapper\n    return fn(*args, **kwargs)\n  File \"/home/aind2/anaconda3/envs/aind2/lib/python3.6/site-packages/ipykernel/kernelbase.py\", line 283, in dispatcher\n    return self.dispatch_shell(stream, msg)\n  File \"/home/aind2/anaconda3/envs/aind2/lib/python3.6/site-packages/ipykernel/kernelbase.py\", line 235, in dispatch_shell\n    handler(stream, idents, msg)\n  File \"/home/aind2/anaconda3/envs/aind2/lib/python3.6/site-packages/ipykernel/kernelbase.py\", line 399, in execute_request\n    user_expressions, allow_stdin)\n  File \"/home/aind2/anaconda3/envs/aind2/lib/python3.6/site-packages/ipykernel/ipkernel.py\", line 196, in do_execute\n    res = shell.run_cell(code, store_history=store_history, silent=silent)\n  File \"/home/aind2/anaconda3/envs/aind2/lib/python3.6/site-packages/ipykernel/zmqshell.py\", line 533, in run_cell\n    return super(ZMQInteractiveShell, self).run_cell(*args, **kwargs)\n  File \"/home/aind2/anaconda3/envs/aind2/lib/python3.6/site-packages/IPython/core/interactiveshell.py\", line 2683, in run_cell\n    interactivity=interactivity, compiler=compiler, result=result)\n  File \"/home/aind2/anaconda3/envs/aind2/lib/python3.6/site-packages/IPython/core/interactiveshell.py\", line 2787, in run_ast_nodes\n    if self.run_code(code, result):\n  File \"/home/aind2/anaconda3/envs/aind2/lib/python3.6/site-packages/IPython/core/interactiveshell.py\", line 2847, in run_code\n    exec(code_obj, self.user_global_ns, self.user_ns)\n  File \"<ipython-input-53-1904bf8afe70>\", line 15, in <module>\n    Inception_model.add(Dense(133, activation='softmax'))\n  File \"/home/aind2/anaconda3/envs/aind2/lib/python3.6/site-packages/keras/models.py\", line 466, in add\n    output_tensor = layer(self.outputs[0])\n  File \"/home/aind2/anaconda3/envs/aind2/lib/python3.6/site-packages/keras/engine/topology.py\", line 558, in __call__\n    self.build(input_shapes[0])\n  File \"/home/aind2/anaconda3/envs/aind2/lib/python3.6/site-packages/keras/layers/core.py\", line 827, in build\n    constraint=self.kernel_constraint)\n  File \"/home/aind2/anaconda3/envs/aind2/lib/python3.6/site-packages/keras/legacy/interfaces.py\", line 88, in wrapper\n    return func(*args, **kwargs)\n  File \"/home/aind2/anaconda3/envs/aind2/lib/python3.6/site-packages/keras/engine/topology.py\", line 391, in add_weight\n    weight = K.variable(initializer(shape), dtype=dtype, name=name)\n  File \"/home/aind2/anaconda3/envs/aind2/lib/python3.6/site-packages/keras/backend/tensorflow_backend.py\", line 317, in variable\n    v = tf.Variable(value, dtype=_convert_string_dtype(dtype), name=name)\n  File \"/home/aind2/anaconda3/envs/aind2/lib/python3.6/site-packages/tensorflow/python/ops/variables.py\", line 197, in __init__\n    expected_shape=expected_shape)\n  File \"/home/aind2/anaconda3/envs/aind2/lib/python3.6/site-packages/tensorflow/python/ops/variables.py\", line 316, in _init_from_args\n    self._snapshot = array_ops.identity(self._variable, name=\"read\")\n  File \"/home/aind2/anaconda3/envs/aind2/lib/python3.6/site-packages/tensorflow/python/ops/gen_array_ops.py\", line 1338, in identity\n    result = _op_def_lib.apply_op(\"Identity\", input=input, name=name)\n  File \"/home/aind2/anaconda3/envs/aind2/lib/python3.6/site-packages/tensorflow/python/framework/op_def_library.py\", line 768, in apply_op\n    op_def=op_def)\n  File \"/home/aind2/anaconda3/envs/aind2/lib/python3.6/site-packages/tensorflow/python/framework/ops.py\", line 2336, in create_op\n    original_op=self._default_original_op, op_def=op_def)\n  File \"/home/aind2/anaconda3/envs/aind2/lib/python3.6/site-packages/tensorflow/python/framework/ops.py\", line 1228, in __init__\n    self._traceback = _extract_stack()\n\nFailedPreconditionError (see above for traceback): Attempting to use uninitialized value dense_25/kernel\n\t [[Node: dense_25/kernel/read = Identity[T=DT_FLOAT, _class=[\"loc:@dense_25/kernel\"], _device=\"/job:localhost/replica:0/task:0/gpu:0\"](dense_25/kernel)]]\n\t [[Node: mul_151/_2015 = _Recv[client_terminated=false, recv_device=\"/job:localhost/replica:0/task:0/cpu:0\", send_device=\"/job:localhost/replica:0/task:0/gpu:0\", send_device_incarnation=1, tensor_name=\"edge_6_mul_151\", tensor_type=DT_FLOAT, _device=\"/job:localhost/replica:0/task:0/cpu:0\"]()]]\n"
     ]
    }
   ],
   "source": [
    "from keras.callbacks import ModelCheckpoint  \n",
    "\n",
    "checkpointer = ModelCheckpoint(filepath='saved_models/weights.best.INCEPTION.hdf5', \n",
    "                               verbose=1, save_best_only=True)\n",
    "epochtimer = EpochTimer()\n",
    "\n",
    "hist = Inception_model.fit(train_inception, train_targets, \n",
    "              validation_data=(valid_inception, valid_targets),\n",
    "              epochs=25, batch_size=32, callbacks=[checkpointer, epochtimer], verbose=1)\n",
    "\n",
    "show_history_graph(hist)\n"
   ]
  },
  {
   "cell_type": "markdown",
   "metadata": {
    "deletable": true,
    "editable": true
   },
   "source": [
    "#### Testing\n"
   ]
  },
  {
   "cell_type": "code",
   "execution_count": 33,
   "metadata": {
    "collapsed": false,
    "deletable": true,
    "editable": true
   },
   "outputs": [
    {
     "name": "stdout",
     "output_type": "stream",
     "text": [
      "Test accuracy Inception: 80.8612%\n"
     ]
    }
   ],
   "source": [
    "Inception_model.load_weights('saved_models/weights.best.INCEPTION.hdf5')\n",
    "\n",
    "# get index of predicted dog breed for each image in test set\n",
    "Inception_predictions = [np.argmax(Inception_model.predict(np.expand_dims(feature, axis=0))) for feature in test_inception]\n",
    "\n",
    "# report test accuracy\n",
    "test_accuracy = 100*np.sum(np.array(Inception_predictions)==np.argmax(test_targets, axis=1))/len(Inception_predictions)\n",
    "print('Test accuracy Inception: %.4f%%' % test_accuracy)"
   ]
  },
  {
   "cell_type": "markdown",
   "metadata": {},
   "source": [
    "#### XCeption"
   ]
  },
  {
   "cell_type": "code",
   "execution_count": null,
   "metadata": {
    "collapsed": true
   },
   "outputs": [],
   "source": [
    "from keras.layers import Conv2D, MaxPooling2D, GlobalAveragePooling2D\n",
    "from keras.layers import Dropout, Flatten, Dense\n",
    "from keras.models import Sequential\n",
    "\n",
    "# Build Xception model\n",
    "xception_bottleneck_features = np.load('bottleneck_features/DogXceptionData.npz')\n",
    "train_inception = xception_bottleneck_features['train']\n",
    "valid_inception = xception_bottleneck_features['valid']\n",
    "test_inception = xception_bottleneck_features['test']\n",
    "\n",
    "Xception_model = Sequential()\n",
    "Xception_model.add(GlobalAveragePooling2D(input_shape=train_inception.shape[1:]))\n",
    "#Xception_model.add(Dense(64, activation='relu'))\n",
    "#Xception_model.add(Dropout(0.3))\n",
    "Xception_model.add(LeakyReLU(alpha=0.3))\n",
    "Xception_model.add(Dense(512, activation='relu'))\n",
    "Xception_model.add(LeakyReLU(alpha=0.3))\n",
    "\n",
    "Xception_model.add(Dense(133, activation='softmax'))\n",
    "\n",
    "Xception_model.summary()\n",
    "\n",
    "Xception_model.compile(loss='categorical_crossentropy', optimizer='adam', metrics=['accuracy'])"
   ]
  },
  {
   "cell_type": "code",
   "execution_count": null,
   "metadata": {
    "collapsed": true
   },
   "outputs": [],
   "source": [
    "from keras.callbacks import ModelCheckpoint  \n",
    "\n",
    "checkpointer = ModelCheckpoint(filepath='saved_models/weights.best.XCEPTION.hdf5', \n",
    "                               verbose=1, save_best_only=True)\n",
    "epochtimer = EpochTimer()\n",
    "\n",
    "hist = Xception_model.fit(train_xception, train_targets, \n",
    "              validation_data=(valid_xception, valid_targets),\n",
    "              epochs=25, batch_size=32, callbacks=[checkpointer, epochtimer], verbose=1)\n",
    "\n",
    "show_history_graph(hist)"
   ]
  },
  {
   "cell_type": "code",
   "execution_count": null,
   "metadata": {
    "collapsed": true
   },
   "outputs": [],
   "source": [
    "Xception_model.load_weights('saved_models/weights.best.XCEPTION.hdf5')\n",
    "\n",
    "# get index of predicted dog breed for each image in test set\n",
    "Xception_predictions = [np.argmax(Xception_model.predict(np.expand_dims(feature, axis=0))) for feature in test_xception]\n",
    "\n",
    "# report test accuracy\n",
    "test_accuracy = 100*np.sum(np.array(Xception_predictions)==np.argmax(test_targets, axis=1))/len(Xception_predictions)\n",
    "print('Test accuracy xception: %.4f%%' % test_accuracy)"
   ]
  },
  {
   "cell_type": "code",
   "execution_count": null,
   "metadata": {
    "collapsed": true
   },
   "outputs": [],
   "source": [
    "fig = plt.figure(figsize=(20, 12))\n",
    "for i, idx in enumerate(np.random.choice(test_tensors.shape[0], size=32, replace=False)):\n",
    "    ax = fig.add_subplot(4, 8, i + 1, xticks=[], yticks=[])\n",
    "    ax.imshow(np.squeeze(test_tensors[idx]))\n",
    "    true_idx = np.argmax(test_targets[idx])\n",
    "    pred_idx = predictions[idx]\n",
    "    ax.set_title(\"{}\\n({})\".format(dog_names[pred_idx], dog_names[true_idx]),\n",
    "                                  color=(\"green\" if pred_idx == true_idx else \"red\"))\n"
   ]
  },
  {
   "cell_type": "markdown",
   "metadata": {
    "deletable": true,
    "editable": true
   },
   "source": [
    "#### Results\n",
    "\n",
    "The first extension experiment was with an exact copy of the previous ResNet architecture, just using the InceptionV3 bottleneck network upfront. This resulted in a test accuracy of: 82.7751%, i.e. worse than the Resnet50. The optimum result was already reached after 8 epochs, meaning that the architecture again did serious overfitting.\n",
    "\n",
    "The second extension experiment was changing the network architecture. I tried, not to use the GlobalAveragePooling layer, but instead flatten the data and then connect another dense layer. Although the number of parameters were not so high (around 500,000), this model ran into the problem of resource allocation and could not be solved.\n",
    "\n",
    "The third experiment was keeping the GlobalAveragePooling, but add another dense layer with dropouts. This resulted in an accuracy of 80.8612%. Again worse than before. \n",
    "\n",
    "TODO: Playing around with batch size and optimizer.\n",
    "\n",
    "TODO: Describe results of XCeption\n",
    "\n"
   ]
  },
  {
   "cell_type": "markdown",
   "metadata": {
    "collapsed": true,
    "deletable": true,
    "editable": true
   },
   "source": [
    "### 9. Step Data Augmentation with Finetuning\n",
    "\n",
    "As it is not possible to use data augmentation with the bottleneck models, the whole network has to be used.\n",
    "\n",
    "As mentioned above I had a look at this tutorial [Keras](https://blog.keras.io/building-powerful-image-classification-models-using-very-little-data.html). However, it was not possible for me to build the network based on this information.\n",
    "So, I did a research on the Slack channels and found the excellent notebook and app of [Jay](https://github.com/madhavajay/nd889/blob/master/2_deep_learning/1_dog_breed_classifier/dog_app.ipynb).\n",
    "Most parts of the code are taken from there, but with my own modifications and experiments to learn the transfer and fine tuning.\n"
   ]
  },
  {
   "cell_type": "code",
   "execution_count": 17,
   "metadata": {
    "collapsed": false
   },
   "outputs": [
    {
     "name": "stderr",
     "output_type": "stream",
     "text": [
      "\n",
      "  0%|          | 0/836 [00:00<?, ?it/s]\u001b[A\n",
      "  1%|          | 8/836 [00:00<00:12, 67.19it/s]\u001b[A\n",
      "  2%|▏         | 16/836 [00:00<00:11, 68.61it/s]\u001b[A\n",
      "  3%|▎         | 25/836 [00:00<00:11, 73.23it/s]\u001b[A\n",
      "  4%|▍         | 33/836 [00:00<00:10, 75.13it/s]\u001b[A\n",
      "  5%|▍         | 40/836 [00:00<00:11, 71.19it/s]\u001b[A\n",
      "  6%|▌         | 47/836 [00:00<00:21, 36.55it/s]\u001b[A\n",
      "  7%|▋         | 55/836 [00:01<00:18, 42.88it/s]\u001b[A\n",
      "  7%|▋         | 61/836 [00:01<00:19, 38.87it/s]\u001b[A\n",
      "  8%|▊         | 66/836 [00:01<00:20, 37.99it/s]\u001b[A\n",
      "  9%|▊         | 72/836 [00:01<00:18, 42.38it/s]\u001b[A\n",
      "  9%|▉         | 77/836 [00:01<00:20, 36.18it/s]\u001b[A\n",
      " 10%|▉         | 82/836 [00:01<00:19, 39.08it/s]\u001b[A\n",
      " 11%|█         | 90/836 [00:01<00:16, 46.06it/s]\u001b[A\n",
      " 11%|█▏        | 96/836 [00:01<00:15, 49.11it/s]\u001b[A\n",
      " 12%|█▏        | 102/836 [00:02<00:14, 49.96it/s]\u001b[A\n",
      " 13%|█▎        | 108/836 [00:02<00:14, 50.06it/s]\u001b[A\n",
      " 14%|█▎        | 114/836 [00:02<00:15, 47.12it/s]\u001b[A\n",
      " 14%|█▍        | 120/836 [00:02<00:14, 49.44it/s]\u001b[A\n",
      " 15%|█▌        | 128/836 [00:02<00:12, 55.14it/s]\u001b[A\n",
      " 16%|█▋        | 136/836 [00:02<00:11, 60.58it/s]\u001b[A\n",
      " 17%|█▋        | 143/836 [00:02<00:13, 52.77it/s]\u001b[A\n",
      " 18%|█▊        | 149/836 [00:03<00:20, 32.90it/s]\u001b[A\n",
      " 19%|█▉        | 157/836 [00:03<00:17, 39.89it/s]\u001b[A\n",
      " 20%|█▉        | 164/836 [00:03<00:15, 44.15it/s]\u001b[A\n",
      " 20%|██        | 170/836 [00:03<00:13, 47.70it/s]\u001b[A\n",
      " 21%|██        | 177/836 [00:03<00:12, 52.55it/s]\u001b[A\n",
      " 22%|██▏       | 184/836 [00:03<00:11, 54.71it/s]\u001b[A\n",
      " 23%|██▎       | 192/836 [00:03<00:10, 59.50it/s]\u001b[A\n",
      " 24%|██▍       | 199/836 [00:03<00:10, 61.28it/s]\u001b[A\n",
      " 25%|██▍       | 206/836 [00:04<00:09, 63.65it/s]\u001b[A\n",
      " 26%|██▌       | 214/836 [00:04<00:09, 66.74it/s]\u001b[A\n",
      " 27%|██▋       | 223/836 [00:04<00:08, 70.82it/s]\u001b[A\n",
      " 28%|██▊       | 231/836 [00:04<00:12, 49.06it/s]\u001b[A\n",
      " 28%|██▊       | 237/836 [00:04<00:13, 45.34it/s]\u001b[A\n",
      " 29%|██▉       | 243/836 [00:04<00:12, 47.43it/s]\u001b[A\n",
      " 30%|██▉       | 249/836 [00:04<00:12, 48.83it/s]\u001b[A\n",
      " 31%|███       | 255/836 [00:05<00:12, 46.82it/s]\u001b[A\n",
      " 31%|███▏      | 263/836 [00:05<00:10, 52.16it/s]\u001b[A\n",
      " 32%|███▏      | 269/836 [00:05<00:10, 51.97it/s]\u001b[A\n",
      " 33%|███▎      | 276/836 [00:05<00:10, 51.67it/s]\u001b[A\n",
      " 34%|███▎      | 282/836 [00:05<00:10, 51.35it/s]\u001b[A\n",
      " 34%|███▍      | 288/836 [00:05<00:11, 49.05it/s]\u001b[A\n",
      " 35%|███▌      | 295/836 [00:05<00:10, 53.06it/s]\u001b[A\n",
      " 36%|███▌      | 301/836 [00:05<00:09, 54.92it/s]\u001b[A\n",
      " 37%|███▋      | 307/836 [00:05<00:09, 56.15it/s]\u001b[A\n",
      " 38%|███▊      | 314/836 [00:06<00:08, 59.15it/s]\u001b[A\n",
      " 39%|███▉      | 325/836 [00:06<00:07, 67.29it/s]\u001b[A\n",
      " 40%|███▉      | 333/836 [00:06<00:07, 64.71it/s]\u001b[A\n",
      " 41%|████      | 342/836 [00:06<00:07, 69.25it/s]\u001b[A\n",
      " 42%|████▏     | 350/836 [00:06<00:07, 64.08it/s]\u001b[A\n",
      " 43%|████▎     | 357/836 [00:07<00:15, 30.69it/s]\u001b[A\n",
      " 43%|████▎     | 363/836 [00:07<00:13, 35.81it/s]\u001b[A\n",
      " 44%|████▍     | 369/836 [00:07<00:18, 25.16it/s]\u001b[A\n",
      " 45%|████▍     | 376/836 [00:07<00:15, 29.19it/s]\u001b[A\n",
      " 46%|████▌     | 383/836 [00:07<00:12, 34.92it/s]\u001b[A\n",
      " 47%|████▋     | 392/836 [00:07<00:10, 41.98it/s]\u001b[A\n",
      " 48%|████▊     | 400/836 [00:08<00:09, 43.87it/s]\u001b[A\n",
      " 49%|████▉     | 408/836 [00:08<00:08, 49.73it/s]\u001b[A\n",
      " 50%|████▉     | 415/836 [00:08<00:08, 51.50it/s]\u001b[A\n",
      " 50%|█████     | 421/836 [00:08<00:08, 48.89it/s]\u001b[A\n",
      " 51%|█████▏    | 430/836 [00:08<00:07, 55.87it/s]\u001b[A\n",
      " 52%|█████▏    | 437/836 [00:08<00:06, 57.31it/s]\u001b[A\n",
      " 53%|█████▎    | 444/836 [00:08<00:08, 44.68it/s]\u001b[A\n",
      " 54%|█████▍    | 451/836 [00:09<00:08, 44.93it/s]\u001b[A\n",
      " 55%|█████▍    | 457/836 [00:09<00:09, 39.00it/s]\u001b[A\n",
      " 55%|█████▌    | 462/836 [00:09<00:09, 39.92it/s]\u001b[A\n",
      " 56%|█████▌    | 468/836 [00:09<00:08, 43.76it/s]\u001b[A\n",
      " 57%|█████▋    | 473/836 [00:09<00:08, 43.46it/s]\u001b[A\n",
      " 57%|█████▋    | 480/836 [00:09<00:07, 47.39it/s]\u001b[A\n",
      " 58%|█████▊    | 486/836 [00:09<00:07, 45.95it/s]\u001b[A\n",
      " 59%|█████▊    | 491/836 [00:10<00:08, 42.94it/s]\u001b[A\n",
      " 59%|█████▉    | 496/836 [00:10<00:07, 42.74it/s]\u001b[A\n",
      " 60%|█████▉    | 501/836 [00:10<00:07, 42.58it/s]\u001b[A\n",
      " 61%|██████    | 506/836 [00:10<00:07, 43.69it/s]\u001b[A\n",
      " 61%|██████    | 511/836 [00:10<00:07, 43.15it/s]\u001b[A\n",
      " 62%|██████▏   | 517/836 [00:10<00:06, 46.69it/s]\u001b[A\n",
      " 62%|██████▏   | 522/836 [00:10<00:06, 46.34it/s]\u001b[A\n",
      " 63%|██████▎   | 529/836 [00:10<00:06, 46.25it/s]\u001b[A\n",
      " 64%|██████▍   | 535/836 [00:11<00:08, 37.26it/s]\u001b[A\n",
      " 65%|██████▍   | 541/836 [00:11<00:07, 41.26it/s]\u001b[A\n",
      " 66%|██████▌   | 549/836 [00:11<00:06, 47.79it/s]\u001b[A\n",
      " 67%|██████▋   | 558/836 [00:11<00:05, 54.12it/s]\u001b[A\n",
      " 68%|██████▊   | 565/836 [00:11<00:05, 53.38it/s]\u001b[A\n",
      " 68%|██████▊   | 571/836 [00:11<00:04, 53.42it/s]\u001b[A\n",
      " 69%|██████▉   | 577/836 [00:12<00:08, 31.28it/s]\u001b[A\n",
      " 70%|██████▉   | 582/836 [00:12<00:10, 24.26it/s]\u001b[A\n",
      " 70%|███████   | 588/836 [00:12<00:08, 29.46it/s]\u001b[A\n",
      " 72%|███████▏  | 598/836 [00:12<00:06, 36.93it/s]\u001b[A\n",
      " 73%|███████▎  | 607/836 [00:12<00:05, 44.66it/s]\u001b[A\n",
      " 73%|███████▎  | 614/836 [00:12<00:05, 43.35it/s]\u001b[A\n",
      " 74%|███████▍  | 620/836 [00:13<00:05, 43.12it/s]\u001b[A\n",
      " 75%|███████▌  | 627/836 [00:13<00:04, 48.34it/s]\u001b[A\n",
      " 76%|███████▌  | 635/836 [00:13<00:03, 53.24it/s]\u001b[A\n",
      " 77%|███████▋  | 643/836 [00:13<00:03, 57.89it/s]\u001b[A\n",
      " 78%|███████▊  | 650/836 [00:13<00:07, 25.83it/s]\u001b[A\n",
      " 79%|███████▊  | 658/836 [00:14<00:05, 32.04it/s]\u001b[A\n",
      " 79%|███████▉  | 664/836 [00:14<00:06, 27.92it/s]\u001b[A\n",
      " 80%|████████  | 672/836 [00:14<00:04, 34.44it/s]\u001b[A\n",
      " 81%|████████▏ | 680/836 [00:14<00:03, 41.34it/s]\u001b[A\n",
      " 82%|████████▏ | 687/836 [00:14<00:03, 46.33it/s]\u001b[A\n",
      " 83%|████████▎ | 695/836 [00:14<00:02, 52.45it/s]\u001b[A\n",
      " 84%|████████▍ | 702/836 [00:15<00:03, 37.08it/s]\u001b[A\n",
      " 85%|████████▍ | 708/836 [00:15<00:03, 39.43it/s]\u001b[A\n",
      " 85%|████████▌ | 714/836 [00:15<00:02, 42.29it/s]\u001b[A\n",
      " 86%|████████▋ | 722/836 [00:15<00:02, 49.06it/s]\u001b[A\n",
      " 87%|████████▋ | 730/836 [00:15<00:01, 54.78it/s]\u001b[A\n",
      " 88%|████████▊ | 737/836 [00:15<00:01, 57.65it/s]\u001b[A\n",
      " 89%|████████▉ | 746/836 [00:15<00:01, 63.51it/s]\u001b[A\n",
      " 90%|█████████ | 754/836 [00:15<00:01, 58.60it/s]\u001b[A\n",
      " 91%|█████████ | 761/836 [00:16<00:01, 61.27it/s]\u001b[A\n",
      " 92%|█████████▏| 768/836 [00:16<00:01, 44.95it/s]\u001b[A\n",
      " 93%|█████████▎| 774/836 [00:16<00:01, 43.89it/s]\u001b[A\n",
      " 93%|█████████▎| 780/836 [00:16<00:01, 46.94it/s]\u001b[A\n",
      " 94%|█████████▍| 787/836 [00:16<00:00, 51.89it/s]\u001b[A\n",
      " 95%|█████████▌| 795/836 [00:16<00:00, 56.29it/s]\u001b[A\n",
      " 96%|█████████▌| 803/836 [00:16<00:00, 60.39it/s]\u001b[A\n",
      " 97%|█████████▋| 810/836 [00:17<00:00, 56.41it/s]\u001b[A\n",
      " 98%|█████████▊| 817/836 [00:17<00:00, 58.91it/s]\u001b[A\n",
      " 99%|█████████▊| 824/836 [00:17<00:00, 57.50it/s]\u001b[A\n",
      " 99%|█████████▉| 830/836 [00:17<00:00, 57.57it/s]\u001b[A\n",
      "100%|██████████| 836/836 [00:17<00:00, 47.91it/s]\u001b[A"
     ]
    }
   ],
   "source": [
    "# InceptionV3 uses 299 x 299 images instead of the 224 x 224 above\n",
    "from keras.applications.inception_v3 import preprocess_input\n",
    "from tqdm import tqdm\n",
    "\n",
    "def paths_to_inception_tensor(img_paths, width=299, height=299):\n",
    "    list_of_tensors = [preprocess_input(path_to_tensor(img_path, width, height)) for img_path in tqdm(img_paths)]\n",
    "    return np.vstack(list_of_tensors)\n",
    "\n",
    "inception_test_tensors = paths_to_inception_tensor(test_files)"
   ]
  },
  {
   "cell_type": "code",
   "execution_count": 18,
   "metadata": {
    "collapsed": false
   },
   "outputs": [
    {
     "name": "stdout",
     "output_type": "stream",
     "text": [
      "Found 6680 images belonging to 133 classes.\n",
      "Found 835 images belonging to 133 classes.\n"
     ]
    }
   ],
   "source": [
    "from keras.applications.inception_v3 import InceptionV3, preprocess_input\n",
    "from keras.preprocessing.image import ImageDataGenerator\n",
    "\n",
    "img_width, img_height = 299, 299\n",
    "batch_size = 100\n",
    "num_classes = 133\n",
    "train_dir = 'dogImages/train'\n",
    "valid_dir = 'dogImages/valid'\n",
    "\n",
    "train_datagen = ImageDataGenerator(\n",
    "    preprocessing_function=preprocess_input,\n",
    "    rotation_range=20,\n",
    "    width_shift_range=0.2,\n",
    "    height_shift_range=0.2,\n",
    "    shear_range=0.2,\n",
    "    zoom_range=0.2,\n",
    "    horizontal_flip=True\n",
    ")\n",
    "\n",
    "validation_datagen = ImageDataGenerator(\n",
    "    preprocessing_function=preprocess_input,\n",
    "    rotation_range=20,\n",
    "    width_shift_range=0.2,\n",
    "    height_shift_range=0.2,\n",
    "    shear_range=0.2,\n",
    "    zoom_range=0.2,\n",
    "    horizontal_flip=True\n",
    ")\n",
    "\n",
    "train_generator = train_datagen.flow_from_directory(\n",
    "    train_dir,\n",
    "    target_size=(img_width, img_height),\n",
    "    batch_size=batch_size,\n",
    ")\n",
    "\n",
    "validation_generator = validation_datagen.flow_from_directory(\n",
    "    valid_dir,\n",
    "    target_size=(img_width, img_height),\n",
    "    batch_size=batch_size,\n",
    ")"
   ]
  },
  {
   "cell_type": "code",
   "execution_count": 19,
   "metadata": {
    "collapsed": false
   },
   "outputs": [
    {
     "name": "stdout",
     "output_type": "stream",
     "text": [
      "Downloading data from https://github.com/fchollet/deep-learning-models/releases/download/v0.5/inception_v3_weights_tf_dim_ordering_tf_kernels_notop.h5\n"
     ]
    },
    {
     "ename": "NameError",
     "evalue": "name 'GlobalAveragePooling2D' is not defined",
     "output_type": "error",
     "traceback": [
      "\u001b[0;31m---------------------------------------------------------------------------\u001b[0m",
      "\u001b[0;31mNameError\u001b[0m                                 Traceback (most recent call last)",
      "\u001b[0;32m<ipython-input-19-338ccc20b880>\u001b[0m in \u001b[0;36m<module>\u001b[0;34m()\u001b[0m\n\u001b[1;32m     12\u001b[0m \u001b[0;31m# TODO: Check documentation on how to build models in Keras in contrast to the method used above\u001b[0m\u001b[0;34m\u001b[0m\u001b[0;34m\u001b[0m\u001b[0m\n\u001b[1;32m     13\u001b[0m \u001b[0moutput\u001b[0m \u001b[0;34m=\u001b[0m \u001b[0mbase_model\u001b[0m\u001b[0;34m.\u001b[0m\u001b[0moutput\u001b[0m\u001b[0;34m\u001b[0m\u001b[0m\n\u001b[0;32m---> 14\u001b[0;31m \u001b[0moutput\u001b[0m \u001b[0;34m=\u001b[0m \u001b[0mGlobalAveragePooling2D\u001b[0m\u001b[0;34m(\u001b[0m\u001b[0;34m)\u001b[0m\u001b[0;34m(\u001b[0m\u001b[0moutput\u001b[0m\u001b[0;34m)\u001b[0m\u001b[0;34m\u001b[0m\u001b[0m\n\u001b[0m\u001b[1;32m     15\u001b[0m \u001b[0moutput\u001b[0m \u001b[0;34m=\u001b[0m \u001b[0mDense\u001b[0m\u001b[0;34m(\u001b[0m\u001b[0;36m512\u001b[0m\u001b[0;34m,\u001b[0m \u001b[0mactivation\u001b[0m\u001b[0;34m=\u001b[0m\u001b[0;34m'relu'\u001b[0m\u001b[0;34m)\u001b[0m\u001b[0;34m(\u001b[0m\u001b[0moutput\u001b[0m\u001b[0;34m)\u001b[0m\u001b[0;34m\u001b[0m\u001b[0m\n\u001b[1;32m     16\u001b[0m \u001b[0mtop_layers\u001b[0m \u001b[0;34m=\u001b[0m \u001b[0mDense\u001b[0m\u001b[0;34m(\u001b[0m\u001b[0;36m133\u001b[0m\u001b[0;34m,\u001b[0m \u001b[0mactivation\u001b[0m\u001b[0;34m=\u001b[0m\u001b[0;34m'softmax'\u001b[0m\u001b[0;34m)\u001b[0m\u001b[0;34m(\u001b[0m\u001b[0moutput\u001b[0m\u001b[0;34m)\u001b[0m\u001b[0;34m\u001b[0m\u001b[0m\n",
      "\u001b[0;31mNameError\u001b[0m: name 'GlobalAveragePooling2D' is not defined"
     ]
    }
   ],
   "source": [
    "from keras.models import Model\n",
    "import math\n",
    "\n",
    "# Load Inception model without the top layers\n",
    "base_model = InceptionV3(weights='imagenet', include_top=False)\n",
    "\n",
    "# Freeze all layers so that the weights cannot be updated\n",
    "for layer in base_model.layers:\n",
    "    layer.trainable = False\n",
    "\n",
    "# Construct our own model on top of Inception network\n",
    "# TODO: Check documentation on how to build models in Keras in contrast to the method used above\n",
    "output = base_model.output\n",
    "output = GlobalAveragePooling2D()(output)\n",
    "output = Dense(512, activation='relu')(output)\n",
    "top_layers = Dense(133, activation='softmax')(output)\n",
    "\n",
    "finetune_model = Model(inputs=base_model.input, outputs=top_layers)\n",
    "\n",
    "finetune_model.summary()\n",
    "\n",
    "finetune_model.compile(optimizer='adam', loss='categorical_crossentropy', metrics=['accuracy'])"
   ]
  },
  {
   "cell_type": "code",
   "execution_count": null,
   "metadata": {
    "collapsed": true
   },
   "outputs": [],
   "source": [
    "steps = math.ceil(train_tensors.shape[0]/batch_size)\n",
    "validation_steps = math.ceil(valid_tensors.shape[0]/batch_size)\n",
    "print('Training Samples: {} Validation Samples: {} Batch Size: {} Steps: {}'.format(\n",
    "      train_tensors.shape[0], valid_tensors.shape[0], batch_size, steps))\n",
    "\n",
    "epochs = 20\n",
    "epochtimer = EpochTimer()\n",
    "\n",
    "hist = finetune_model.fit_generator(\n",
    "    train_generator,\n",
    "    validation_data=validation_generator,\n",
    "    epochs=epochs,\n",
    "    steps_per_epoch=steps,\n",
    "    validation_steps=validation_steps,\n",
    "    callbacks=[epochtimer])\n",
    "\n",
    "show_history_graph(hist)\n",
    "\n",
    "top_model_file = 'saved_models/weights.best.{}.hdf5'.format('inceptionv3_top')\n",
    "finetune_model.save(top_model_file)"
   ]
  },
  {
   "cell_type": "code",
   "execution_count": null,
   "metadata": {
    "collapsed": true
   },
   "outputs": [],
   "source": [
    "predictions = [np.argmax(finetune_model.predict(np.expand_dims(feature, axis=0))) for feature in inception_test_tensors]\n",
    "\n",
    "# report test accuracy\n",
    "test_accuracy = 100*np.sum(np.array(predictions)==np.argmax(test_targets, axis=1))/len(predictions)\n",
    "print('Test accuracy: %.4f%%' % test_accuracy)"
   ]
  },
  {
   "cell_type": "code",
   "execution_count": null,
   "metadata": {
    "collapsed": true
   },
   "outputs": [],
   "source": [
    "from keras.optimizers import SGD\n",
    "\n",
    "# NB_IV3_LAYERS corresponds to the top 2 inception blocks in the inceptionv3 architecture\n",
    "NB_IV3_LAYERS_TO_FREEZE = 172\n",
    "for layer in finetune_model.layers[:NB_IV3_LAYERS_TO_FREEZE]:\n",
    "    layer.trainable = False\n",
    "for layer in finetune_model.layers[NB_IV3_LAYERS_TO_FREEZE:]:\n",
    "    layer.trainable = True\n",
    "\n",
    "finetune_model.summary()\n",
    "\n",
    "# Use a slow stable learning method to prevent introducing bad noise into the lower layers\n",
    "finetune_model.compile(optimizer=SGD(lr=0.0001, momentum=0.9), loss='categorical_crossentropy', metrics=['accuracy'])"
   ]
  },
  {
   "cell_type": "code",
   "execution_count": null,
   "metadata": {
    "collapsed": true
   },
   "outputs": [],
   "source": [
    "steps = math.ceil(train_tensors.shape[0]/batch_size)\n",
    "validation_steps = math.ceil(valid_tensors.shape[0]/batch_size)\n",
    "print('Training Samples: {} Validation Samples: {} Batch Size: {} Steps: {}'.format(\n",
    "      train_tensors.shape[0], valid_tensors.shape[0], batch_size, steps))\n",
    "\n",
    "epochs = 20\n",
    "epochtimer = EpochTimer()\n",
    "\n",
    "hist = finetune_model.fit_generator(\n",
    "    train_generator,\n",
    "    validation_data=validation_generator,\n",
    "    epochs=epochs,\n",
    "    steps_per_epoch=steps,\n",
    "    validation_steps=validation_steps,\n",
    "    callbacks=[epochtimer])\n",
    "\n",
    "show_history_graph(hist)\n",
    "\n",
    "finetune_model_file = 'saved_models/weights.best.{}.hdf5'.format('inceptionv3_finetune')\n",
    "finetune_model.save(finetune_model_file)"
   ]
  },
  {
   "cell_type": "code",
   "execution_count": null,
   "metadata": {
    "collapsed": true
   },
   "outputs": [],
   "source": [
    "predictions = [np.argmax(finetune_model.predict(np.expand_dims(feature, axis=0))) for feature in inception_test_tensors]\n",
    "\n",
    "# report test accuracy\n",
    "test_accuracy = 100*np.sum(np.array(predictions)==np.argmax(test_targets, axis=1))/len(predictions)\n",
    "print('Test accuracy: %.4f%%' % test_accuracy)"
   ]
  },
  {
   "cell_type": "code",
   "execution_count": null,
   "metadata": {
    "collapsed": true
   },
   "outputs": [],
   "source": [
    "finetune_model_file = 'saved_models/weights.best.{}.hdf5'.format('inceptionv3_finetune')\n",
    "finetune_model.load_weights(finetune_model_file)\n",
    "\n",
    "from keras.applications.inception_v3 import InceptionV3\n",
    "from keras.applications.inception_v3 import preprocess_input as preprocess_inception_input\n",
    "\n",
    "def extract_InceptionV3(tensor):\n",
    "    return InceptionV3(weights='imagenet', include_top=False).predict(preprocess_inception_input(tensor))\n",
    "\n",
    "### Function that takes a path to an image as input\n",
    "### and returns the dog breed that is predicted by the finetuned model.\n",
    "def breed_detector(img_path, selected_model, bottleneck=True, img_width=223, img_height=223):\n",
    "    tensor = path_to_tensor(img_path, img_width, img_height)\n",
    "    if bottleneck:\n",
    "        tensor = extract_InceptionV3(tensor)\n",
    "    else:\n",
    "        tensor = preprocess_inception_input(tensor)\n",
    "\n",
    "    predictions = selected_model.predict(tensor)\n",
    "    y_hat = np.argmax(predictions)\n",
    "    return dog_names[y_hat]"
   ]
  },
  {
   "cell_type": "markdown",
   "metadata": {},
   "source": [
    "#### Results\n",
    "\n",
    "TODO"
   ]
  },
  {
   "cell_type": "code",
   "execution_count": null,
   "metadata": {
    "collapsed": true
   },
   "outputs": [],
   "source": []
  }
 ],
 "metadata": {
  "anaconda-cloud": {},
  "kernelspec": {
   "display_name": "Python 3",
   "language": "python",
   "name": "python3"
  },
  "language_info": {
   "codemirror_mode": {
    "name": "ipython",
    "version": 3
   },
   "file_extension": ".py",
   "mimetype": "text/x-python",
   "name": "python",
   "nbconvert_exporter": "python",
   "pygments_lexer": "ipython3",
   "version": "3.5.3"
  }
 },
 "nbformat": 4,
 "nbformat_minor": 1
}
